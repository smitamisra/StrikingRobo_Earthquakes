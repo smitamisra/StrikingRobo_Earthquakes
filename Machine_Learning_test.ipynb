{
 "cells": [
  {
   "cell_type": "code",
   "execution_count": 1,
   "metadata": {},
   "outputs": [],
   "source": [
    "from sklearn.linear_model import LinearRegression\n",
    "from sklearn.metrics import mean_squared_error\n",
    "from sklearn.model_selection import train_test_split\n",
    "from sklearn.model_selection import cross_val_score\n",
    "from sklearn.linear_model import Ridge\n",
    "\n",
    "import numpy as np\n",
    "import pandas as pd\n",
    "import geopandas as gpd\n",
    "from shapely.geometry import Point\n",
    "import matplotlib.pyplot as plt\n",
    "%matplotlib inline"
   ]
  },
  {
   "cell_type": "code",
   "execution_count": 2,
   "metadata": {},
   "outputs": [],
   "source": [
    "quake_plate_dist = pd.read_csv(\"MR_Data/quake_plate_dist.csv\")\n",
    "quake_vol_dist = pd.read_csv(\"MR_Data/quake_vol_dist.csv\")"
   ]
  },
  {
   "cell_type": "code",
   "execution_count": 3,
   "metadata": {},
   "outputs": [],
   "source": [
    "quake_plate_dist2 = quake_plate_dist.drop(\"geometry\", axis = 1)\n",
    "quake_vol_dist2 = quake_vol_dist.drop(\"geometry\", axis = 1)\n",
    "\n",
    "ML_df = pd.merge(left = quake_plate_dist2, right = quake_vol_dist2, how = \"inner\")"
   ]
  },
  {
   "cell_type": "code",
   "execution_count": 4,
   "metadata": {},
   "outputs": [
    {
     "data": {
      "text/plain": [
       "Index(['lat', 'lng', 'Depth_km', 'Mag', 'Year', 'Month', 'Day', 'SUB', 'CCB',\n",
       "       'CRB', 'CTF', 'OCB', 'OSR', 'OTF', 'plates', 'Stratovolcano', 'Caldera',\n",
       "       'Shield', 'Complex Volcano', 'Submarine', 'Volcanic Field',\n",
       "       'Cinder Cone', 'Dome', 'Fissure vents', 'Somma Volcano', 'Maar',\n",
       "       'Pyroclastic Cone', 'Tuff Ring', 'Plug', 'None', 'vol'],\n",
       "      dtype='object')"
      ]
     },
     "execution_count": 4,
     "metadata": {},
     "output_type": "execute_result"
    }
   ],
   "source": [
    "ML_df = ML_df.drop([\"Unnamed: 0\", \"Secondary_Effects\", \"PDE_Shaking_Deaths\", \"PDE_Deaths\", \"Utsu_Deaths\", \"EM-DAT_Deaths\", \n",
    "                    \"Other_Deaths\", \"Max_Deaths\", \"Country\", \"closest_plate\", \"closest_vol\"], axis = 1)\n",
    "ML_df.columns"
   ]
  },
  {
   "cell_type": "code",
   "execution_count": 5,
   "metadata": {},
   "outputs": [],
   "source": [
    "cols = ['lat', 'lng', 'Depth_km', 'Mag', 'Year', 'Month', 'Day', 'SUB', 'CCB',\n",
    "       'CRB', 'CTF', 'OCB', 'OSR', 'OTF', 'plates', 'Stratovolcano', 'Caldera',\n",
    "       'Shield', 'Complex Volcano', 'Submarine', 'Volcanic Field',\n",
    "       'Cinder Cone', 'Dome', 'Fissure vents', 'Somma Volcano', 'Maar',\n",
    "       'Pyroclastic Cone', 'Tuff Ring', 'Plug', 'None', 'vol']\n",
    "ML_df[cols] = ML_df[cols].apply(pd.to_numeric)#, errors='coerce')"
   ]
  },
  {
   "cell_type": "code",
   "execution_count": 6,
   "metadata": {},
   "outputs": [],
   "source": [
    "array = ML_df.values"
   ]
  },
  {
   "cell_type": "code",
   "execution_count": 7,
   "metadata": {},
   "outputs": [
    {
     "name": "stdout",
     "output_type": "stream",
     "text": [
      "R^2: 0.9854245005251894\n",
      "Root Mean Squared Error: 7.230391138059341\n",
      "[ 0.99463045  0.99410876  0.99400935  0.99326998  0.99246183]\n",
      "Average 5-Fold CV Score: 0.9936960713990809\n",
      "0.99234134829\n",
      "0.99374210342\n"
     ]
    },
    {
     "data": {
      "text/plain": [
       "[<matplotlib.lines.Line2D at 0x11b193ef0>]"
      ]
     },
     "execution_count": 7,
     "metadata": {},
     "output_type": "execute_result"
    },
    {
     "data": {
      "image/png": "[encoded data removed]",
      "text/plain": [
       "<matplotlib.figure.Figure at 0x11bfa6d30>"
      ]
     },
     "metadata": {},
     "output_type": "display_data"
    }
   ],
   "source": [
    "#Train model for lat lng\n",
    "\n",
    "X = array[:,7:]\n",
    "y = array[:,:2]\n",
    "\n",
    "X_train, X_test, y_train, y_test = train_test_split(X, y, test_size = 0.3, random_state=42)\n",
    "\n",
    "# Create the regressor: reg_all\n",
    "reg_all = LinearRegression()\n",
    "\n",
    "# Fit the regressor to the training data\n",
    "reg_all.fit(X_train, y_train)\n",
    "\n",
    "# Predict on the test data: y_pred\n",
    "y_pred = reg_all.predict(X_test)\n",
    "\n",
    "# Compute and print R^2 and RMSE\n",
    "print(\"R^2: {}\".format(reg_all.score(X_test, y_test)))\n",
    "rmse = np.sqrt(mean_squared_error(y_test, y_pred))\n",
    "print(\"Root Mean Squared Error: {}\".format(rmse))\n",
    "\n",
    "reg = LinearRegression()\n",
    "\n",
    "# Compute 5-fold cross-validation scores: cv_scores\n",
    "cv_scores = cross_val_score(reg, X, y, cv=5)\n",
    "\n",
    "# Print the 5-fold cross-validation scores\n",
    "print(cv_scores)\n",
    "\n",
    "print(\"Average 5-Fold CV Score: {}\".format(np.mean(cv_scores)))\n",
    "\n",
    "cvscores_3 = cross_val_score(reg, X, y, cv = 3)\n",
    "print(np.mean(cvscores_3))\n",
    "\n",
    "# Perform 10-fold CV\n",
    "cvscores_10 = cross_val_score(reg, X, y, cv = 10)\n",
    "print(np.mean(cvscores_10))\n",
    "\n",
    "alpha_space = np.logspace(-4, 0, 50)\n",
    "ridge_scores = []\n",
    "ridge_scores_std = []\n",
    "\n",
    "# Create a ridge regressor: ridge\n",
    "ridge = Ridge(normalize = True)\n",
    "\n",
    "# Compute scores over range of alphas\n",
    "for alpha in alpha_space:\n",
    "\n",
    "    # Specify the alpha value to use: ridge.alpha\n",
    "    ridge.alpha = alpha\n",
    "    \n",
    "    # Perform 10-fold CV: ridge_cv_scores\n",
    "    ridge_cv_scores = cross_val_score(ridge, X, y, cv=10)\n",
    "    \n",
    "    # Append the mean of ridge_cv_scores to ridge_scores\n",
    "    ridge_scores.append(np.mean(ridge_cv_scores))\n",
    "    \n",
    "    # Append the std of ridge_cv_scores to ridge_scores_std\n",
    "    ridge_scores_std.append(np.std(ridge_cv_scores))\n",
    "\n",
    "# Display the plot\n",
    "plt.plot(ridge_scores, ridge_scores_std)"
   ]
  },
  {
   "cell_type": "code",
   "execution_count": 8,
   "metadata": {},
   "outputs": [
    {
     "name": "stdout",
     "output_type": "stream",
     "text": [
      "R^2: -0.03976133395043498\n",
      "Root Mean Squared Error: 17.241304226093565\n",
      "[-14.39320953  -1.24829178  -2.02667363  -6.58897749 -15.66473771]\n",
      "Average 5-Fold CV Score: -7.984378027165896\n",
      "-7.58033189727\n",
      "-9.02418810449\n"
     ]
    },
    {
     "data": {
      "text/plain": [
       "[<matplotlib.lines.Line2D at 0x11b1f9358>]"
      ]
     },
     "execution_count": 8,
     "metadata": {},
     "output_type": "execute_result"
    },
    {
     "data": {
      "image/png": "[encoded data removed]",
      "text/plain": [
       "<matplotlib.figure.Figure at 0x102a0a630>"
      ]
     },
     "metadata": {},
     "output_type": "display_data"
    }
   ],
   "source": [
    "#Train model on Year, Month, Day\n",
    "\n",
    "X2 = array[:,7:]\n",
    "y2 = array[:,4:7]\n",
    "\n",
    "X_train, X_test, y_train, y_test = train_test_split(X2, y2, test_size = 0.3, random_state=42)\n",
    "\n",
    "# Create the regressor: reg_all\n",
    "reg_all = LinearRegression()\n",
    "\n",
    "# Fit the regressor to the training data\n",
    "reg_all.fit(X_train, y_train)\n",
    "\n",
    "# Predict on the test data: y_pred\n",
    "y_pred = reg_all.predict(X_test)\n",
    "\n",
    "# Compute and print R^2 and RMSE\n",
    "print(\"R^2: {}\".format(reg_all.score(X_test, y_test)))\n",
    "rmse = np.sqrt(mean_squared_error(y_test, y_pred))\n",
    "print(\"Root Mean Squared Error: {}\".format(rmse))\n",
    "\n",
    "reg = LinearRegression()\n",
    "\n",
    "# Compute 5-fold cross-validation scores: cv_scores\n",
    "cv_scores = cross_val_score(reg, X2, y2, cv=5)\n",
    "\n",
    "# Print the 5-fold cross-validation scores\n",
    "print(cv_scores)\n",
    "\n",
    "print(\"Average 5-Fold CV Score: {}\".format(np.mean(cv_scores)))\n",
    "\n",
    "cvscores_3 = cross_val_score(reg, X2, y2, cv = 3)\n",
    "print(np.mean(cvscores_3))\n",
    "\n",
    "# Perform 10-fold CV\n",
    "cvscores_10 = cross_val_score(reg, X2, y2, cv = 10)\n",
    "print(np.mean(cvscores_10))\n",
    "\n",
    "alpha_space = np.logspace(-4, 0, 50)\n",
    "ridge_scores = []\n",
    "ridge_scores_std = []\n",
    "\n",
    "# Create a ridge regressor: ridge\n",
    "ridge = Ridge(normalize = True)\n",
    "\n",
    "# Compute scores over range of alphas\n",
    "for alpha in alpha_space:\n",
    "\n",
    "    # Specify the alpha value to use: ridge.alpha\n",
    "    ridge.alpha = alpha\n",
    "    \n",
    "    # Perform 10-fold CV: ridge_cv_scores\n",
    "    ridge_cv_scores = cross_val_score(ridge, X2, y2, cv=10)\n",
    "    \n",
    "    # Append the mean of ridge_cv_scores to ridge_scores\n",
    "    ridge_scores.append(np.mean(ridge_cv_scores))\n",
    "    \n",
    "    # Append the std of ridge_cv_scores to ridge_scores_std\n",
    "    ridge_scores_std.append(np.std(ridge_cv_scores))\n",
    "\n",
    "# Display the plot\n",
    "plt.plot(ridge_scores, ridge_scores_std)"
   ]
  },
  {
   "cell_type": "code",
   "execution_count": 9,
   "metadata": {},
   "outputs": [
    {
     "name": "stdout",
     "output_type": "stream",
     "text": [
      "R^2: 0.11913425908220777\n",
      "Root Mean Squared Error: 0.910176684817407\n",
      "[-0.29004436 -0.12664786  0.03372698  0.21848268  0.01128959]\n",
      "Average 5-Fold CV Score: -0.030638594309609003\n",
      "-0.126263084926\n",
      "-0.00329518214403\n"
     ]
    },
    {
     "data": {
      "text/plain": [
       "[<matplotlib.lines.Line2D at 0x11b3a49e8>]"
      ]
     },
     "execution_count": 9,
     "metadata": {},
     "output_type": "execute_result"
    },
    {
     "data": {
      "image/png": "[encoded data removed]",
      "text/plain": [
       "<matplotlib.figure.Figure at 0x11b0f8b38>"
      ]
     },
     "metadata": {},
     "output_type": "display_data"
    }
   ],
   "source": [
    "#Train Model on Depth_km\n",
    "\n",
    "X3 = array[:,7:]\n",
    "y3 = array[:,3]\n",
    "\n",
    "X_train, X_test, y_train, y_test = train_test_split(X3, y3, test_size = 0.3, random_state=42)\n",
    "\n",
    "# Create the regressor: reg_all\n",
    "reg_all = LinearRegression()\n",
    "\n",
    "# Fit the regressor to the training data\n",
    "reg_all.fit(X_train, y_train)\n",
    "\n",
    "# Predict on the test data: y_pred\n",
    "y_pred = reg_all.predict(X_test)\n",
    "\n",
    "# Compute and print R^2 and RMSE\n",
    "print(\"R^2: {}\".format(reg_all.score(X_test, y_test)))\n",
    "rmse = np.sqrt(mean_squared_error(y_test, y_pred))\n",
    "print(\"Root Mean Squared Error: {}\".format(rmse))\n",
    "\n",
    "reg = LinearRegression()\n",
    "\n",
    "# Compute 5-fold cross-validation scores: cv_scores\n",
    "cv_scores = cross_val_score(reg, X3, y3, cv=5)\n",
    "\n",
    "# Print the 5-fold cross-validation scores\n",
    "print(cv_scores)\n",
    "\n",
    "print(\"Average 5-Fold CV Score: {}\".format(np.mean(cv_scores)))\n",
    "\n",
    "cvscores_3 = cross_val_score(reg, X3, y3, cv = 3)\n",
    "print(np.mean(cvscores_3))\n",
    "\n",
    "# Perform 10-fold CV\n",
    "cvscores_10 = cross_val_score(reg, X3, y3, cv = 10)\n",
    "print(np.mean(cvscores_10))\n",
    "\n",
    "alpha_space = np.logspace(-4, 0, 50)\n",
    "ridge_scores = []\n",
    "ridge_scores_std = []\n",
    "\n",
    "# Create a ridge regressor: ridge\n",
    "ridge = Ridge(normalize = True)\n",
    "\n",
    "# Compute scores over range of alphas\n",
    "for alpha in alpha_space:\n",
    "\n",
    "    # Specify the alpha value to use: ridge.alpha\n",
    "    ridge.alpha = alpha\n",
    "    \n",
    "    # Perform 10-fold CV: ridge_cv_scores\n",
    "    ridge_cv_scores = cross_val_score(ridge, X3, y3, cv=10)\n",
    "    \n",
    "    # Append the mean of ridge_cv_scores to ridge_scores\n",
    "    ridge_scores.append(np.mean(ridge_cv_scores))\n",
    "    \n",
    "    # Append the std of ridge_cv_scores to ridge_scores_std\n",
    "    ridge_scores_std.append(np.std(ridge_cv_scores))\n",
    "\n",
    "# Display the plot\n",
    "plt.plot(ridge_scores, ridge_scores_std)"
   ]
  },
  {
   "cell_type": "code",
   "execution_count": 10,
   "metadata": {},
   "outputs": [
    {
     "name": "stdout",
     "output_type": "stream",
     "text": [
      "R^2: -0.03740427402889979\n",
      "Root Mean Squared Error: 28.34835609621497\n",
      "[ -21.78903881   -2.70126564  -12.63476157  -53.13712506 -156.81311288]\n",
      "Average 5-Fold CV Score: -49.41506079175715\n",
      "-24.3332179723\n",
      "-138.778209214\n"
     ]
    },
    {
     "data": {
      "text/plain": [
       "[<matplotlib.lines.Line2D at 0x11f1efef0>]"
      ]
     },
     "execution_count": 10,
     "metadata": {},
     "output_type": "execute_result"
    },
    {
     "data": {
      "image/png": "[encoded data removed]",
      "text/plain": [
       "<matplotlib.figure.Figure at 0x11b375828>"
      ]
     },
     "metadata": {},
     "output_type": "display_data"
    }
   ],
   "source": [
    "#Train Model on Mag\n",
    "\n",
    "X4 = array[:,7:]\n",
    "y4 = array[:,4]\n",
    "\n",
    "X_train, X_test, y_train, y_test = train_test_split(X4, y4, test_size = 0.3, random_state=42)\n",
    "\n",
    "# Create the regressor: reg_all\n",
    "reg_all = LinearRegression()\n",
    "\n",
    "# Fit the regressor to the training data\n",
    "reg_all.fit(X_train, y_train)\n",
    "\n",
    "# Predict on the test data: y_pred\n",
    "y_pred = reg_all.predict(X_test)\n",
    "\n",
    "# Compute and print R^2 and RMSE\n",
    "print(\"R^2: {}\".format(reg_all.score(X_test, y_test)))\n",
    "rmse = np.sqrt(mean_squared_error(y_test, y_pred))\n",
    "print(\"Root Mean Squared Error: {}\".format(rmse))\n",
    "\n",
    "reg = LinearRegression()\n",
    "\n",
    "# Compute 5-fold cross-validation scores: cv_scores\n",
    "cv_scores = cross_val_score(reg, X4, y4, cv=5)\n",
    "\n",
    "# Print the 5-fold cross-validation scores\n",
    "print(cv_scores)\n",
    "\n",
    "print(\"Average 5-Fold CV Score: {}\".format(np.mean(cv_scores)))\n",
    "\n",
    "cvscores_3 = cross_val_score(reg, X4, y4, cv = 3)\n",
    "print(np.mean(cvscores_3))\n",
    "\n",
    "# Perform 10-fold CV\n",
    "cvscores_10 = cross_val_score(reg, X4, y4, cv = 10)\n",
    "print(np.mean(cvscores_10))\n",
    "\n",
    "alpha_space = np.logspace(-4, 0, 50)\n",
    "ridge_scores = []\n",
    "ridge_scores_std = []\n",
    "\n",
    "# Create a ridge regressor: ridge\n",
    "ridge = Ridge(normalize = True)\n",
    "\n",
    "# Compute scores over range of alphas\n",
    "for alpha in alpha_space:\n",
    "\n",
    "    # Specify the alpha value to use: ridge.alpha\n",
    "    ridge.alpha = alpha\n",
    "    \n",
    "    # Perform 10-fold CV: ridge_cv_scores\n",
    "    ridge_cv_scores = cross_val_score(ridge, X4, y4, cv=10)\n",
    "    \n",
    "    # Append the mean of ridge_cv_scores to ridge_scores\n",
    "    ridge_scores.append(np.mean(ridge_cv_scores))\n",
    "    \n",
    "    # Append the std of ridge_cv_scores to ridge_scores_std\n",
    "    ridge_scores_std.append(np.std(ridge_cv_scores))\n",
    "\n",
    "# Display the plot\n",
    "plt.plot(ridge_scores, ridge_scores_std)"
   ]
  },
  {
   "cell_type": "markdown",
   "metadata": {},
   "source": [
    "Lat Lng is really the only thing that the model works for. But it works really well. I guess that makes sense since the things we were measuring were just based on location. To get better model for other parameters measure other things related to them."
   ]
  },
  {
   "cell_type": "code",
   "execution_count": 11,
   "metadata": {},
   "outputs": [],
   "source": [
    "OK_2015 = pd.read_csv(\"MR_Data/OK_2015.csv\")"
   ]
  },
  {
   "cell_type": "code",
   "execution_count": 12,
   "metadata": {},
   "outputs": [
    {
     "data": {
      "text/plain": [
       "Index(['id', 'origintime', 'latitude', 'longitude', 'depth', 'err_lon',\n",
       "       'err_lat', 'err_depth', 'err_origintime', 'county', 'origin_src',\n",
       "       'prefmag', 'pmag_type', 'pmag_src', 'mw', 'mw_src', 'mblg_ogs',\n",
       "       'mblg_usgs', 'ml_ogs', 'm3hz_ogs', 'md_ogs', 'mb', 'ms', 'mfa',\n",
       "       'max_mmi', 'reafile', 'reamtime', 'geom', 'pdlid', 'mw_ogs'],\n",
       "      dtype='object')"
      ]
     },
     "execution_count": 12,
     "metadata": {},
     "output_type": "execute_result"
    }
   ],
   "source": [
    "OK_2015.columns"
   ]
  },
  {
   "cell_type": "code",
   "execution_count": 13,
   "metadata": {},
   "outputs": [
    {
     "data": {
      "text/plain": [
       "Index(['latitude', 'longitude'], dtype='object')"
      ]
     },
     "execution_count": 13,
     "metadata": {},
     "output_type": "execute_result"
    }
   ],
   "source": [
    "OK_2015_lat_lng = OK_2015.drop(['id', 'origintime', 'depth', 'err_lon',\n",
    "       'err_lat', 'err_depth', 'err_origintime', 'county', 'origin_src',\n",
    "       'prefmag', 'pmag_type', 'pmag_src', 'mw', 'mw_src', 'mblg_ogs',\n",
    "       'mblg_usgs', 'ml_ogs', 'm3hz_ogs', 'md_ogs', 'mb', 'ms', 'mfa',\n",
    "       'max_mmi', 'reafile', 'reamtime', 'geom', 'pdlid', 'mw_ogs'], axis = 1)\n",
    "\n",
    "OK_2015_lat_lng.columns"
   ]
  },
  {
   "cell_type": "code",
   "execution_count": 14,
   "metadata": {},
   "outputs": [],
   "source": [
    "geometry = [Point(xy) for xy in zip(OK_2015_lat_lng.longitude, OK_2015_lat_lng.latitude)]\n",
    "crs = {\"init\": \"epsg:4326\"} \n",
    "OK_2015_gdf = gpd.GeoDataFrame(OK_2015_lat_lng, crs=crs, geometry=geometry)"
   ]
  },
  {
   "cell_type": "markdown",
   "metadata": {},
   "source": [
    "boundaries_gdf = gpd.read_file(\"MR_Data/PB2002_steps.json\")"
   ]
  },
  {
   "cell_type": "markdown",
   "metadata": {},
   "source": [
    "earthquakes_geo = OK_2015_gdf.geometry"
   ]
  },
  {
   "cell_type": "markdown",
   "metadata": {},
   "source": [
    "boundaries_geo = boundaries_gdf.geometry\n",
    "sub_geo = boundaries_gdf[boundaries_gdf[\"STEPCLASS\"].str.contains(\"SUB\")].geometry\n",
    "ccb_geo = boundaries_gdf[boundaries_gdf[\"STEPCLASS\"].str.contains(\"CCB\")].geometry\n",
    "crb_geo = boundaries_gdf[boundaries_gdf[\"STEPCLASS\"].str.contains(\"CRB\")].geometry\n",
    "ctf_geo = boundaries_gdf[boundaries_gdf[\"STEPCLASS\"].str.contains(\"CTF\")].geometry\n",
    "ocb_geo = boundaries_gdf[boundaries_gdf[\"STEPCLASS\"].str.contains(\"OCB\")].geometry\n",
    "osr_geo = boundaries_gdf[boundaries_gdf[\"STEPCLASS\"].str.contains(\"OSR\")].geometry\n",
    "otf_geo = boundaries_gdf[boundaries_gdf[\"STEPCLASS\"].str.contains(\"OTF\")].geometry"
   ]
  },
  {
   "cell_type": "markdown",
   "metadata": {},
   "source": [
    "def quake_dist(geoseries):\n",
    "    dist_list = []\n",
    "    for quake in earthquakes_geo:\n",
    "        dist = np.min([quake.distance(vol) for vol in geoseries])\n",
    "        dist_list.append(dist)\n",
    "    return dist_list"
   ]
  },
  {
   "cell_type": "markdown",
   "metadata": {},
   "source": [
    "boundary_list = [boundaries_geo, sub_geo, ccb_geo, crb_geo, ctf_geo, ocb_geo, osr_geo, otf_geo]\n",
    "\n",
    "total_bound_dist = []\n",
    "\n",
    "for geoseries in boundary_list:\n",
    "    min_distances = quake_dist(geoseries)\n",
    "    total_bound_dist.append(min_distances)\n",
    "    \n",
    "total_bound_dist"
   ]
  },
  {
   "cell_type": "markdown",
   "metadata": {},
   "source": [
    "boundary_distances = pd.DataFrame(total_bound_dist)\n",
    "boundary_distances = boundary_distances.transpose()\n",
    "boundary_distances.columns = [\"boundaries_geo\", \"sub_geo\", \"ccb_geo\", \"crb_geo\", \"ctf_geo\", \"ocb_geo\", \n",
    "                              \"osr_geo\", \"otf_geo\"]\n",
    "earthquakes_dist = pd.concat([OK_2015_gdf, boundary_distances], axis=1)"
   ]
  },
  {
   "cell_type": "markdown",
   "metadata": {},
   "source": [
    "earthquakes_dist.to_file(filename = \"MR_Data/OK_2015_bound_dist.GeoJSON\", driver = \"GeoJSON\")"
   ]
  },
  {
   "cell_type": "markdown",
   "metadata": {},
   "source": [
    "volcanoes = pd.read_csv(\"MR_Data/volcanoes_scraped.csv\")\n",
    "volcanoes = volcanoes.drop([\"Unnamed: 0\", \"geometry\"], axis = 1)"
   ]
  },
  {
   "cell_type": "markdown",
   "metadata": {},
   "source": [
    "geometry = [Point(xy) for xy in zip(volcanoes.lng, volcanoes.lat)]\n",
    "crs = {\"init\": \"epsg:4326\"} \n",
    "volcanoes_gdf = gpd.GeoDataFrame(volcanoes, crs=crs, geometry=geometry)"
   ]
  },
  {
   "cell_type": "markdown",
   "metadata": {},
   "source": [
    "volcanoes_gdf = volcanoes_gdf.drop([86, 96, 263, 276])\n",
    "volcanoes_gdf = volcanoes_gdf.drop(volcanoes_gdf[volcanoes_gdf[\"Type\"].isnull()].index)"
   ]
  },
  {
   "cell_type": "markdown",
   "metadata": {},
   "source": [
    "vol_geo = volcanoes_gdf.geometry\n",
    "strato_vol = volcanoes_gdf[volcanoes_gdf[\"Type\"].str.contains(\"Stratovolcano\")].geometry\n",
    "caldera_vol = volcanoes_gdf[volcanoes_gdf[\"Type\"].str.contains(\"Caldera\")].geometry\n",
    "shield_vol = volcanoes_gdf[volcanoes_gdf[\"Type\"].str.contains(\"Shield\")].geometry\n",
    "complex_vol = volcanoes_gdf[volcanoes_gdf[\"Type\"].str.contains(\"Complex Volcano\")].geometry\n",
    "submarine_vol = volcanoes_gdf[volcanoes_gdf[\"Type\"].str.contains(\"Submarine\")].geometry\n",
    "vol_field_vol = volcanoes_gdf[volcanoes_gdf[\"Type\"].str.contains(\"Volcanic Field\")].geometry\n",
    "cinder_vol = volcanoes_gdf[volcanoes_gdf[\"Type\"].str.contains(\"Cinder Cone\")].geometry\n",
    "dome_vol = volcanoes_gdf[volcanoes_gdf[\"Type\"].str.contains(\"Dome\")].geometry\n",
    "fissure_vents_vol = volcanoes_gdf[volcanoes_gdf[\"Type\"].str.contains(\"Fissure vents\")].geometry\n",
    "somma_vol = volcanoes_gdf[volcanoes_gdf[\"Type\"].str.contains(\"Somma Volcano\")].geometry\n",
    "maar_vol = volcanoes_gdf[volcanoes_gdf[\"Type\"].str.contains(\"Maar\")].geometry\n",
    "proclastic_vol = volcanoes_gdf[volcanoes_gdf[\"Type\"].str.contains(\"Pyroclastic Cone\")].geometry\n",
    "flood_basalt_vol = volcanoes_gdf[volcanoes_gdf[\"Type\"].str.contains(\"Flood Basalt\")].geometry\n",
    "tuff_vol = volcanoes_gdf[volcanoes_gdf[\"Type\"].str.contains(\"Tuff Ring\")].geometry\n",
    "plug_vol = volcanoes_gdf[volcanoes_gdf[\"Type\"].str.contains(\"Plug\")].geometry\n",
    "noname_vol = volcanoes_gdf[volcanoes_gdf[\"Type\"].str.contains(\"\")].geometry"
   ]
  },
  {
   "cell_type": "markdown",
   "metadata": {},
   "source": [
    "vol_type_list = [vol_geo, strato_vol, caldera_vol, shield_vol, complex_vol, submarine_vol, vol_field_vol, \n",
    "                 cinder_vol, dome_vol, fissure_vents_vol, somma_vol, maar_vol, proclastic_vol, tuff_vol, \n",
    "                 plug_vol]\n",
    "\n",
    "total_vol_dist = []\n",
    "\n",
    "for geoseries in vol_type_list:\n",
    "    dist_list = quake_dist(geoseries)\n",
    "    total_vol_dist.append(dist_list)\n",
    "    \n",
    "total_vol_dist"
   ]
  },
  {
   "cell_type": "markdown",
   "metadata": {},
   "source": [
    "vol_dist = pd.DataFrame(total_vol_dist)\n",
    "vol_dist = vol_dist.transpose()\n",
    "vol_dist.columns = [\"vol\", \"strato\", \"caldera\", \"shield\", \"complex\", \"submarine\", \"vol_field\", \"cinder\", \n",
    "                 \"dome\", \"fissure_vents\", \"somma\", \"maar\", \"proclastic\", \"tuff\", \n",
    "                 \"plug\"]\n",
    "quake_vol_dist = pd.concat([OK_2015_gdf, vol_dist], axis=1)"
   ]
  },
  {
   "cell_type": "markdown",
   "metadata": {},
   "source": [
    "quake_vol_dist.to_file(filename = \"MR_Data/OK_2015_vol_dist.GeoJSON\", driver = \"GeoJSON\")"
   ]
  },
  {
   "cell_type": "code",
   "execution_count": 15,
   "metadata": {},
   "outputs": [
    {
     "data": {
      "text/html": [
       "<div>\n",
       "<style scoped>\n",
       "    .dataframe tbody tr th:only-of-type {\n",
       "        vertical-align: middle;\n",
       "    }\n",
       "\n",
       "    .dataframe tbody tr th {\n",
       "        vertical-align: top;\n",
       "    }\n",
       "\n",
       "    .dataframe thead th {\n",
       "        text-align: right;\n",
       "    }\n",
       "</style>\n",
       "<table border=\"1\" class=\"dataframe\">\n",
       "  <thead>\n",
       "    <tr style=\"text-align: right;\">\n",
       "      <th></th>\n",
       "      <th>latitude</th>\n",
       "      <th>longitude</th>\n",
       "      <th>boundaries_geo</th>\n",
       "      <th>sub_geo</th>\n",
       "      <th>ccb_geo</th>\n",
       "      <th>crb_geo</th>\n",
       "      <th>ctf_geo</th>\n",
       "      <th>ocb_geo</th>\n",
       "      <th>osr_geo</th>\n",
       "      <th>otf_geo</th>\n",
       "    </tr>\n",
       "  </thead>\n",
       "  <tbody>\n",
       "    <tr>\n",
       "      <th>0</th>\n",
       "      <td>36.36558</td>\n",
       "      <td>-97.07604</td>\n",
       "      <td>16.699619</td>\n",
       "      <td>17.564141</td>\n",
       "      <td>19.721321</td>\n",
       "      <td>17.763003</td>\n",
       "      <td>17.329627</td>\n",
       "      <td>17.564141</td>\n",
       "      <td>16.699619</td>\n",
       "      <td>16.699619</td>\n",
       "    </tr>\n",
       "    <tr>\n",
       "      <th>1</th>\n",
       "      <td>36.65549</td>\n",
       "      <td>-97.63704</td>\n",
       "      <td>16.469975</td>\n",
       "      <td>17.502359</td>\n",
       "      <td>19.201649</td>\n",
       "      <td>17.312037</td>\n",
       "      <td>16.981989</td>\n",
       "      <td>17.502359</td>\n",
       "      <td>16.469975</td>\n",
       "      <td>16.469975</td>\n",
       "    </tr>\n",
       "    <tr>\n",
       "      <th>2</th>\n",
       "      <td>36.67116</td>\n",
       "      <td>-97.61475</td>\n",
       "      <td>16.497004</td>\n",
       "      <td>17.527447</td>\n",
       "      <td>19.225869</td>\n",
       "      <td>17.338056</td>\n",
       "      <td>17.009134</td>\n",
       "      <td>17.527447</td>\n",
       "      <td>16.497004</td>\n",
       "      <td>16.497004</td>\n",
       "    </tr>\n",
       "    <tr>\n",
       "      <th>3</th>\n",
       "      <td>36.88717</td>\n",
       "      <td>-97.68763</td>\n",
       "      <td>16.589986</td>\n",
       "      <td>17.673044</td>\n",
       "      <td>19.184520</td>\n",
       "      <td>17.336404</td>\n",
       "      <td>17.056117</td>\n",
       "      <td>17.673044</td>\n",
       "      <td>16.589986</td>\n",
       "      <td>16.589986</td>\n",
       "    </tr>\n",
       "    <tr>\n",
       "      <th>4</th>\n",
       "      <td>36.93193</td>\n",
       "      <td>-97.49207</td>\n",
       "      <td>16.763708</td>\n",
       "      <td>17.813665</td>\n",
       "      <td>19.384562</td>\n",
       "      <td>17.536036</td>\n",
       "      <td>17.247005</td>\n",
       "      <td>17.813665</td>\n",
       "      <td>16.763708</td>\n",
       "      <td>16.763708</td>\n",
       "    </tr>\n",
       "  </tbody>\n",
       "</table>\n",
       "</div>"
      ],
      "text/plain": [
       "   latitude  longitude  boundaries_geo    sub_geo    ccb_geo    crb_geo  \\\n",
       "0  36.36558  -97.07604       16.699619  17.564141  19.721321  17.763003   \n",
       "1  36.65549  -97.63704       16.469975  17.502359  19.201649  17.312037   \n",
       "2  36.67116  -97.61475       16.497004  17.527447  19.225869  17.338056   \n",
       "3  36.88717  -97.68763       16.589986  17.673044  19.184520  17.336404   \n",
       "4  36.93193  -97.49207       16.763708  17.813665  19.384562  17.536036   \n",
       "\n",
       "     ctf_geo    ocb_geo    osr_geo    otf_geo  \n",
       "0  17.329627  17.564141  16.699619  16.699619  \n",
       "1  16.981989  17.502359  16.469975  16.469975  \n",
       "2  17.009134  17.527447  16.497004  16.497004  \n",
       "3  17.056117  17.673044  16.589986  16.589986  \n",
       "4  17.247005  17.813665  16.763708  16.763708  "
      ]
     },
     "execution_count": 15,
     "metadata": {},
     "output_type": "execute_result"
    }
   ],
   "source": [
    "OK_2015_bound = gpd.read_file(\"MR_Data/OK_2015_bound_dist.GeoJSON\")\n",
    "OK_2015_bound = OK_2015_bound.drop(\"geometry\", axis=1)\n",
    "OK_2015_bound.head()"
   ]
  },
  {
   "cell_type": "code",
   "execution_count": 16,
   "metadata": {},
   "outputs": [
    {
     "data": {
      "text/html": [
       "<div>\n",
       "<style scoped>\n",
       "    .dataframe tbody tr th:only-of-type {\n",
       "        vertical-align: middle;\n",
       "    }\n",
       "\n",
       "    .dataframe tbody tr th {\n",
       "        vertical-align: top;\n",
       "    }\n",
       "\n",
       "    .dataframe thead th {\n",
       "        text-align: right;\n",
       "    }\n",
       "</style>\n",
       "<table border=\"1\" class=\"dataframe\">\n",
       "  <thead>\n",
       "    <tr style=\"text-align: right;\">\n",
       "      <th></th>\n",
       "      <th>latitude</th>\n",
       "      <th>longitude</th>\n",
       "      <th>vol</th>\n",
       "      <th>strato</th>\n",
       "      <th>caldera</th>\n",
       "      <th>shield</th>\n",
       "      <th>complex</th>\n",
       "      <th>submarine</th>\n",
       "      <th>vol_field</th>\n",
       "      <th>cinder</th>\n",
       "      <th>dome</th>\n",
       "      <th>fissure_vents</th>\n",
       "      <th>somma</th>\n",
       "      <th>maar</th>\n",
       "      <th>proclastic</th>\n",
       "      <th>tuff</th>\n",
       "      <th>plug</th>\n",
       "    </tr>\n",
       "  </thead>\n",
       "  <tbody>\n",
       "    <tr>\n",
       "      <th>0</th>\n",
       "      <td>36.36558</td>\n",
       "      <td>-97.07604</td>\n",
       "      <td>7.014464</td>\n",
       "      <td>17.256596</td>\n",
       "      <td>15.806030</td>\n",
       "      <td>25.247583</td>\n",
       "      <td>22.566722</td>\n",
       "      <td>34.290644</td>\n",
       "      <td>9.313559</td>\n",
       "      <td>7.014464</td>\n",
       "      <td>60.864697</td>\n",
       "      <td>82.652354</td>\n",
       "      <td>111.594977</td>\n",
       "      <td>20.384464</td>\n",
       "      <td>101.161535</td>\n",
       "      <td>16.592949</td>\n",
       "      <td>11.221870</td>\n",
       "    </tr>\n",
       "    <tr>\n",
       "      <th>1</th>\n",
       "      <td>36.65549</td>\n",
       "      <td>-97.63704</td>\n",
       "      <td>6.456227</td>\n",
       "      <td>17.504247</td>\n",
       "      <td>15.175672</td>\n",
       "      <td>24.627936</td>\n",
       "      <td>22.997642</td>\n",
       "      <td>33.671191</td>\n",
       "      <td>8.869837</td>\n",
       "      <td>6.456227</td>\n",
       "      <td>60.235773</td>\n",
       "      <td>83.087588</td>\n",
       "      <td>112.144392</td>\n",
       "      <td>19.816310</td>\n",
       "      <td>101.719913</td>\n",
       "      <td>15.961588</td>\n",
       "      <td>10.630173</td>\n",
       "    </tr>\n",
       "    <tr>\n",
       "      <th>2</th>\n",
       "      <td>36.67116</td>\n",
       "      <td>-97.61475</td>\n",
       "      <td>6.479022</td>\n",
       "      <td>17.521182</td>\n",
       "      <td>15.186807</td>\n",
       "      <td>24.644804</td>\n",
       "      <td>23.006450</td>\n",
       "      <td>33.688296</td>\n",
       "      <td>8.896078</td>\n",
       "      <td>6.479022</td>\n",
       "      <td>60.250517</td>\n",
       "      <td>83.061418</td>\n",
       "      <td>112.121536</td>\n",
       "      <td>19.838314</td>\n",
       "      <td>101.697507</td>\n",
       "      <td>15.974692</td>\n",
       "      <td>10.633306</td>\n",
       "    </tr>\n",
       "    <tr>\n",
       "      <th>3</th>\n",
       "      <td>36.88717</td>\n",
       "      <td>-97.68763</td>\n",
       "      <td>6.417274</td>\n",
       "      <td>17.732763</td>\n",
       "      <td>15.014532</td>\n",
       "      <td>24.513893</td>\n",
       "      <td>23.234220</td>\n",
       "      <td>33.559263</td>\n",
       "      <td>8.902446</td>\n",
       "      <td>6.417274</td>\n",
       "      <td>60.101906</td>\n",
       "      <td>83.060556</td>\n",
       "      <td>112.186586</td>\n",
       "      <td>19.762813</td>\n",
       "      <td>101.769025</td>\n",
       "      <td>15.815030</td>\n",
       "      <td>10.424059</td>\n",
       "    </tr>\n",
       "    <tr>\n",
       "      <th>4</th>\n",
       "      <td>36.93193</td>\n",
       "      <td>-97.49207</td>\n",
       "      <td>6.615504</td>\n",
       "      <td>17.789006</td>\n",
       "      <td>15.161756</td>\n",
       "      <td>24.689419</td>\n",
       "      <td>23.223368</td>\n",
       "      <td>33.735606</td>\n",
       "      <td>9.101112</td>\n",
       "      <td>6.615504</td>\n",
       "      <td>60.266654</td>\n",
       "      <td>82.861001</td>\n",
       "      <td>111.989584</td>\n",
       "      <td>19.958121</td>\n",
       "      <td>101.573243</td>\n",
       "      <td>15.972719</td>\n",
       "      <td>10.523948</td>\n",
       "    </tr>\n",
       "  </tbody>\n",
       "</table>\n",
       "</div>"
      ],
      "text/plain": [
       "   latitude  longitude       vol     strato    caldera     shield    complex  \\\n",
       "0  36.36558  -97.07604  7.014464  17.256596  15.806030  25.247583  22.566722   \n",
       "1  36.65549  -97.63704  6.456227  17.504247  15.175672  24.627936  22.997642   \n",
       "2  36.67116  -97.61475  6.479022  17.521182  15.186807  24.644804  23.006450   \n",
       "3  36.88717  -97.68763  6.417274  17.732763  15.014532  24.513893  23.234220   \n",
       "4  36.93193  -97.49207  6.615504  17.789006  15.161756  24.689419  23.223368   \n",
       "\n",
       "   submarine  vol_field    cinder       dome  fissure_vents       somma  \\\n",
       "0  34.290644   9.313559  7.014464  60.864697      82.652354  111.594977   \n",
       "1  33.671191   8.869837  6.456227  60.235773      83.087588  112.144392   \n",
       "2  33.688296   8.896078  6.479022  60.250517      83.061418  112.121536   \n",
       "3  33.559263   8.902446  6.417274  60.101906      83.060556  112.186586   \n",
       "4  33.735606   9.101112  6.615504  60.266654      82.861001  111.989584   \n",
       "\n",
       "        maar  proclastic       tuff       plug  \n",
       "0  20.384464  101.161535  16.592949  11.221870  \n",
       "1  19.816310  101.719913  15.961588  10.630173  \n",
       "2  19.838314  101.697507  15.974692  10.633306  \n",
       "3  19.762813  101.769025  15.815030  10.424059  \n",
       "4  19.958121  101.573243  15.972719  10.523948  "
      ]
     },
     "execution_count": 16,
     "metadata": {},
     "output_type": "execute_result"
    }
   ],
   "source": [
    "OK_2015_vol = gpd.read_file(\"MR_Data/OK_2015_vol_dist.GeoJSON\")\n",
    "OK_2015_vol = OK_2015_vol.drop(\"geometry\", axis=1)\n",
    "OK_2015_vol.head()"
   ]
  },
  {
   "cell_type": "code",
   "execution_count": 17,
   "metadata": {},
   "outputs": [],
   "source": [
    "ML_df_OK = pd.merge(left = OK_2015_bound, right = OK_2015_vol, how = \"inner\")"
   ]
  },
  {
   "cell_type": "code",
   "execution_count": 18,
   "metadata": {},
   "outputs": [
    {
     "data": {
      "text/html": [
       "<div>\n",
       "<style scoped>\n",
       "    .dataframe tbody tr th:only-of-type {\n",
       "        vertical-align: middle;\n",
       "    }\n",
       "\n",
       "    .dataframe tbody tr th {\n",
       "        vertical-align: top;\n",
       "    }\n",
       "\n",
       "    .dataframe thead th {\n",
       "        text-align: right;\n",
       "    }\n",
       "</style>\n",
       "<table border=\"1\" class=\"dataframe\">\n",
       "  <thead>\n",
       "    <tr style=\"text-align: right;\">\n",
       "      <th></th>\n",
       "      <th>latitude</th>\n",
       "      <th>longitude</th>\n",
       "      <th>boundaries_geo</th>\n",
       "      <th>sub_geo</th>\n",
       "      <th>ccb_geo</th>\n",
       "      <th>crb_geo</th>\n",
       "      <th>ctf_geo</th>\n",
       "      <th>ocb_geo</th>\n",
       "      <th>osr_geo</th>\n",
       "      <th>otf_geo</th>\n",
       "      <th>...</th>\n",
       "      <th>submarine</th>\n",
       "      <th>vol_field</th>\n",
       "      <th>cinder</th>\n",
       "      <th>dome</th>\n",
       "      <th>fissure_vents</th>\n",
       "      <th>somma</th>\n",
       "      <th>maar</th>\n",
       "      <th>proclastic</th>\n",
       "      <th>tuff</th>\n",
       "      <th>plug</th>\n",
       "    </tr>\n",
       "  </thead>\n",
       "  <tbody>\n",
       "    <tr>\n",
       "      <th>0</th>\n",
       "      <td>36.36558</td>\n",
       "      <td>-97.07604</td>\n",
       "      <td>16.699619</td>\n",
       "      <td>17.564141</td>\n",
       "      <td>19.721321</td>\n",
       "      <td>17.763003</td>\n",
       "      <td>17.329627</td>\n",
       "      <td>17.564141</td>\n",
       "      <td>16.699619</td>\n",
       "      <td>16.699619</td>\n",
       "      <td>...</td>\n",
       "      <td>34.290644</td>\n",
       "      <td>9.313559</td>\n",
       "      <td>7.014464</td>\n",
       "      <td>60.864697</td>\n",
       "      <td>82.652354</td>\n",
       "      <td>111.594977</td>\n",
       "      <td>20.384464</td>\n",
       "      <td>101.161535</td>\n",
       "      <td>16.592949</td>\n",
       "      <td>11.221870</td>\n",
       "    </tr>\n",
       "    <tr>\n",
       "      <th>1</th>\n",
       "      <td>36.65549</td>\n",
       "      <td>-97.63704</td>\n",
       "      <td>16.469975</td>\n",
       "      <td>17.502359</td>\n",
       "      <td>19.201649</td>\n",
       "      <td>17.312037</td>\n",
       "      <td>16.981989</td>\n",
       "      <td>17.502359</td>\n",
       "      <td>16.469975</td>\n",
       "      <td>16.469975</td>\n",
       "      <td>...</td>\n",
       "      <td>33.671191</td>\n",
       "      <td>8.869837</td>\n",
       "      <td>6.456227</td>\n",
       "      <td>60.235773</td>\n",
       "      <td>83.087588</td>\n",
       "      <td>112.144392</td>\n",
       "      <td>19.816310</td>\n",
       "      <td>101.719913</td>\n",
       "      <td>15.961588</td>\n",
       "      <td>10.630173</td>\n",
       "    </tr>\n",
       "    <tr>\n",
       "      <th>2</th>\n",
       "      <td>36.67116</td>\n",
       "      <td>-97.61475</td>\n",
       "      <td>16.497004</td>\n",
       "      <td>17.527447</td>\n",
       "      <td>19.225869</td>\n",
       "      <td>17.338056</td>\n",
       "      <td>17.009134</td>\n",
       "      <td>17.527447</td>\n",
       "      <td>16.497004</td>\n",
       "      <td>16.497004</td>\n",
       "      <td>...</td>\n",
       "      <td>33.688296</td>\n",
       "      <td>8.896078</td>\n",
       "      <td>6.479022</td>\n",
       "      <td>60.250517</td>\n",
       "      <td>83.061418</td>\n",
       "      <td>112.121536</td>\n",
       "      <td>19.838314</td>\n",
       "      <td>101.697507</td>\n",
       "      <td>15.974692</td>\n",
       "      <td>10.633306</td>\n",
       "    </tr>\n",
       "    <tr>\n",
       "      <th>3</th>\n",
       "      <td>36.88717</td>\n",
       "      <td>-97.68763</td>\n",
       "      <td>16.589986</td>\n",
       "      <td>17.673044</td>\n",
       "      <td>19.184520</td>\n",
       "      <td>17.336404</td>\n",
       "      <td>17.056117</td>\n",
       "      <td>17.673044</td>\n",
       "      <td>16.589986</td>\n",
       "      <td>16.589986</td>\n",
       "      <td>...</td>\n",
       "      <td>33.559263</td>\n",
       "      <td>8.902446</td>\n",
       "      <td>6.417274</td>\n",
       "      <td>60.101906</td>\n",
       "      <td>83.060556</td>\n",
       "      <td>112.186586</td>\n",
       "      <td>19.762813</td>\n",
       "      <td>101.769025</td>\n",
       "      <td>15.815030</td>\n",
       "      <td>10.424059</td>\n",
       "    </tr>\n",
       "    <tr>\n",
       "      <th>4</th>\n",
       "      <td>36.93193</td>\n",
       "      <td>-97.49207</td>\n",
       "      <td>16.763708</td>\n",
       "      <td>17.813665</td>\n",
       "      <td>19.384562</td>\n",
       "      <td>17.536036</td>\n",
       "      <td>17.247005</td>\n",
       "      <td>17.813665</td>\n",
       "      <td>16.763708</td>\n",
       "      <td>16.763708</td>\n",
       "      <td>...</td>\n",
       "      <td>33.735606</td>\n",
       "      <td>9.101112</td>\n",
       "      <td>6.615504</td>\n",
       "      <td>60.266654</td>\n",
       "      <td>82.861001</td>\n",
       "      <td>111.989584</td>\n",
       "      <td>19.958121</td>\n",
       "      <td>101.573243</td>\n",
       "      <td>15.972719</td>\n",
       "      <td>10.523948</td>\n",
       "    </tr>\n",
       "  </tbody>\n",
       "</table>\n",
       "<p>5 rows × 25 columns</p>\n",
       "</div>"
      ],
      "text/plain": [
       "   latitude  longitude  boundaries_geo    sub_geo    ccb_geo    crb_geo  \\\n",
       "0  36.36558  -97.07604       16.699619  17.564141  19.721321  17.763003   \n",
       "1  36.65549  -97.63704       16.469975  17.502359  19.201649  17.312037   \n",
       "2  36.67116  -97.61475       16.497004  17.527447  19.225869  17.338056   \n",
       "3  36.88717  -97.68763       16.589986  17.673044  19.184520  17.336404   \n",
       "4  36.93193  -97.49207       16.763708  17.813665  19.384562  17.536036   \n",
       "\n",
       "     ctf_geo    ocb_geo    osr_geo    otf_geo    ...      submarine  \\\n",
       "0  17.329627  17.564141  16.699619  16.699619    ...      34.290644   \n",
       "1  16.981989  17.502359  16.469975  16.469975    ...      33.671191   \n",
       "2  17.009134  17.527447  16.497004  16.497004    ...      33.688296   \n",
       "3  17.056117  17.673044  16.589986  16.589986    ...      33.559263   \n",
       "4  17.247005  17.813665  16.763708  16.763708    ...      33.735606   \n",
       "\n",
       "   vol_field    cinder       dome  fissure_vents       somma       maar  \\\n",
       "0   9.313559  7.014464  60.864697      82.652354  111.594977  20.384464   \n",
       "1   8.869837  6.456227  60.235773      83.087588  112.144392  19.816310   \n",
       "2   8.896078  6.479022  60.250517      83.061418  112.121536  19.838314   \n",
       "3   8.902446  6.417274  60.101906      83.060556  112.186586  19.762813   \n",
       "4   9.101112  6.615504  60.266654      82.861001  111.989584  19.958121   \n",
       "\n",
       "   proclastic       tuff       plug  \n",
       "0  101.161535  16.592949  11.221870  \n",
       "1  101.719913  15.961588  10.630173  \n",
       "2  101.697507  15.974692  10.633306  \n",
       "3  101.769025  15.815030  10.424059  \n",
       "4  101.573243  15.972719  10.523948  \n",
       "\n",
       "[5 rows x 25 columns]"
      ]
     },
     "execution_count": 18,
     "metadata": {},
     "output_type": "execute_result"
    }
   ],
   "source": [
    "ML_df_OK.head()"
   ]
  },
  {
   "cell_type": "code",
   "execution_count": 19,
   "metadata": {},
   "outputs": [
    {
     "ename": "ValueError",
     "evalue": "Input contains NaN, infinity or a value too large for dtype('float64').",
     "output_type": "error",
     "traceback": [
      "\u001b[0;31m---------------------------------------------------------------------------\u001b[0m",
      "\u001b[0;31mValueError\u001b[0m                                Traceback (most recent call last)",
      "\u001b[0;32m<ipython-input-19-bb1076dd0e34>\u001b[0m in \u001b[0;36m<module>\u001b[0;34m()\u001b[0m\n\u001b[1;32m     11\u001b[0m \u001b[0;34m\u001b[0m\u001b[0m\n\u001b[1;32m     12\u001b[0m \u001b[0;31m# Fit the regressor to the training data\u001b[0m\u001b[0;34m\u001b[0m\u001b[0;34m\u001b[0m\u001b[0m\n\u001b[0;32m---> 13\u001b[0;31m \u001b[0mreg_all\u001b[0m\u001b[0;34m.\u001b[0m\u001b[0mfit\u001b[0m\u001b[0;34m(\u001b[0m\u001b[0mX_train\u001b[0m\u001b[0;34m,\u001b[0m \u001b[0my_train\u001b[0m\u001b[0;34m)\u001b[0m\u001b[0;34m\u001b[0m\u001b[0m\n\u001b[0m\u001b[1;32m     14\u001b[0m \u001b[0;34m\u001b[0m\u001b[0m\n\u001b[1;32m     15\u001b[0m \u001b[0;31m# Predict on the test data: y_pred\u001b[0m\u001b[0;34m\u001b[0m\u001b[0;34m\u001b[0m\u001b[0m\n",
      "\u001b[0;32m/anaconda3/envs/data-question-3-striking-robots/lib/python3.6/site-packages/sklearn/linear_model/base.py\u001b[0m in \u001b[0;36mfit\u001b[0;34m(self, X, y, sample_weight)\u001b[0m\n\u001b[1;32m    480\u001b[0m         \u001b[0mn_jobs_\u001b[0m \u001b[0;34m=\u001b[0m \u001b[0mself\u001b[0m\u001b[0;34m.\u001b[0m\u001b[0mn_jobs\u001b[0m\u001b[0;34m\u001b[0m\u001b[0m\n\u001b[1;32m    481\u001b[0m         X, y = check_X_y(X, y, accept_sparse=['csr', 'csc', 'coo'],\n\u001b[0;32m--> 482\u001b[0;31m                          y_numeric=True, multi_output=True)\n\u001b[0m\u001b[1;32m    483\u001b[0m \u001b[0;34m\u001b[0m\u001b[0m\n\u001b[1;32m    484\u001b[0m         \u001b[0;32mif\u001b[0m \u001b[0msample_weight\u001b[0m \u001b[0;32mis\u001b[0m \u001b[0;32mnot\u001b[0m \u001b[0;32mNone\u001b[0m \u001b[0;32mand\u001b[0m \u001b[0mnp\u001b[0m\u001b[0;34m.\u001b[0m\u001b[0matleast_1d\u001b[0m\u001b[0;34m(\u001b[0m\u001b[0msample_weight\u001b[0m\u001b[0;34m)\u001b[0m\u001b[0;34m.\u001b[0m\u001b[0mndim\u001b[0m \u001b[0;34m>\u001b[0m \u001b[0;36m1\u001b[0m\u001b[0;34m:\u001b[0m\u001b[0;34m\u001b[0m\u001b[0m\n",
      "\u001b[0;32m/anaconda3/envs/data-question-3-striking-robots/lib/python3.6/site-packages/sklearn/utils/validation.py\u001b[0m in \u001b[0;36mcheck_X_y\u001b[0;34m(X, y, accept_sparse, dtype, order, copy, force_all_finite, ensure_2d, allow_nd, multi_output, ensure_min_samples, ensure_min_features, y_numeric, warn_on_dtype, estimator)\u001b[0m\n\u001b[1;32m    574\u001b[0m     \u001b[0;32mif\u001b[0m \u001b[0mmulti_output\u001b[0m\u001b[0;34m:\u001b[0m\u001b[0;34m\u001b[0m\u001b[0m\n\u001b[1;32m    575\u001b[0m         y = check_array(y, 'csr', force_all_finite=True, ensure_2d=False,\n\u001b[0;32m--> 576\u001b[0;31m                         dtype=None)\n\u001b[0m\u001b[1;32m    577\u001b[0m     \u001b[0;32melse\u001b[0m\u001b[0;34m:\u001b[0m\u001b[0;34m\u001b[0m\u001b[0m\n\u001b[1;32m    578\u001b[0m         \u001b[0my\u001b[0m \u001b[0;34m=\u001b[0m \u001b[0mcolumn_or_1d\u001b[0m\u001b[0;34m(\u001b[0m\u001b[0my\u001b[0m\u001b[0;34m,\u001b[0m \u001b[0mwarn\u001b[0m\u001b[0;34m=\u001b[0m\u001b[0;32mTrue\u001b[0m\u001b[0;34m)\u001b[0m\u001b[0;34m\u001b[0m\u001b[0m\n",
      "\u001b[0;32m/anaconda3/envs/data-question-3-striking-robots/lib/python3.6/site-packages/sklearn/utils/validation.py\u001b[0m in \u001b[0;36mcheck_array\u001b[0;34m(array, accept_sparse, dtype, order, copy, force_all_finite, ensure_2d, allow_nd, ensure_min_samples, ensure_min_features, warn_on_dtype, estimator)\u001b[0m\n\u001b[1;32m    451\u001b[0m                              % (array.ndim, estimator_name))\n\u001b[1;32m    452\u001b[0m         \u001b[0;32mif\u001b[0m \u001b[0mforce_all_finite\u001b[0m\u001b[0;34m:\u001b[0m\u001b[0;34m\u001b[0m\u001b[0m\n\u001b[0;32m--> 453\u001b[0;31m             \u001b[0m_assert_all_finite\u001b[0m\u001b[0;34m(\u001b[0m\u001b[0marray\u001b[0m\u001b[0;34m)\u001b[0m\u001b[0;34m\u001b[0m\u001b[0m\n\u001b[0m\u001b[1;32m    454\u001b[0m \u001b[0;34m\u001b[0m\u001b[0m\n\u001b[1;32m    455\u001b[0m     \u001b[0mshape_repr\u001b[0m \u001b[0;34m=\u001b[0m \u001b[0m_shape_repr\u001b[0m\u001b[0;34m(\u001b[0m\u001b[0marray\u001b[0m\u001b[0;34m.\u001b[0m\u001b[0mshape\u001b[0m\u001b[0;34m)\u001b[0m\u001b[0;34m\u001b[0m\u001b[0m\n",
      "\u001b[0;32m/anaconda3/envs/data-question-3-striking-robots/lib/python3.6/site-packages/sklearn/utils/validation.py\u001b[0m in \u001b[0;36m_assert_all_finite\u001b[0;34m(X)\u001b[0m\n\u001b[1;32m     42\u001b[0m             and not np.isfinite(X).all()):\n\u001b[1;32m     43\u001b[0m         raise ValueError(\"Input contains NaN, infinity\"\n\u001b[0;32m---> 44\u001b[0;31m                          \" or a value too large for %r.\" % X.dtype)\n\u001b[0m\u001b[1;32m     45\u001b[0m \u001b[0;34m\u001b[0m\u001b[0m\n\u001b[1;32m     46\u001b[0m \u001b[0;34m\u001b[0m\u001b[0m\n",
      "\u001b[0;31mValueError\u001b[0m: Input contains NaN, infinity or a value too large for dtype('float64')."
     ]
    }
   ],
   "source": [
    "array_train = ML_df.values\n",
    "array_test = ML_df_OK.values\n",
    "\n",
    "X = array_train[:,3:]\n",
    "y = array_train[:,1:3]\n",
    "\n",
    "X_train, X_test, y_train, y_test = train_test_split(X, y, test_size = 0, random_state=42)\n",
    "\n",
    "# Create the regressor: reg_all\n",
    "reg_all = LinearRegression()\n",
    "\n",
    "# Fit the regressor to the training data\n",
    "reg_all.fit(X_train, y_train)\n",
    "\n",
    "# Predict on the test data: y_pred\n",
    "y_pred = reg_all.predict(array_test[:,2:])\n",
    "\n",
    "# Compute and print R^2 and RMSE\n",
    "print(\"R^2: {}\".format(reg_all.score(array_test[:,2:], array_test[:,:2])))\n",
    "rmse = np.sqrt(mean_squared_error(array_test[:,:2], y_pred))\n",
    "print(\"Root Mean Squared Error: {}\".format(rmse))\n",
    "\n",
    "reg = LinearRegression()\n",
    "\n",
    "# Compute 5-fold cross-validation scores: cv_scores\n",
    "cv_scores = cross_val_score(reg, X, y, cv=5)\n",
    "\n",
    "# Print the 5-fold cross-validation scores\n",
    "print(cv_scores)\n",
    "\n",
    "print(\"Average 5-Fold CV Score: {}\".format(np.mean(cv_scores)))\n",
    "\n",
    "cvscores_3 = cross_val_score(reg, X, y, cv = 3)\n",
    "print(np.mean(cvscores_3))\n",
    "\n",
    "# Perform 10-fold CV\n",
    "cvscores_10 = cross_val_score(reg, X, y, cv = 10)\n",
    "print(np.mean(cvscores_10))\n",
    "\n",
    "alpha_space = np.logspace(-4, 0, 50)\n",
    "ridge_scores = []\n",
    "ridge_scores_std = []\n",
    "\n",
    "# Create a ridge regressor: ridge\n",
    "ridge = Ridge(normalize = True)\n",
    "\n",
    "# Compute scores over range of alphas\n",
    "for alpha in alpha_space:\n",
    "\n",
    "    # Specify the alpha value to use: ridge.alpha\n",
    "    ridge.alpha = alpha\n",
    "    \n",
    "    # Perform 10-fold CV: ridge_cv_scores\n",
    "    ridge_cv_scores = cross_val_score(ridge, X, y, cv=10)\n",
    "    \n",
    "    # Append the mean of ridge_cv_scores to ridge_scores\n",
    "    ridge_scores.append(np.mean(ridge_cv_scores))\n",
    "    \n",
    "    # Append the std of ridge_cv_scores to ridge_scores_std\n",
    "    ridge_scores_std.append(np.std(ridge_cv_scores))\n",
    "\n",
    "# Display the plot\n",
    "plt.plot(ridge_scores, ridge_scores_std)"
   ]
  },
  {
   "cell_type": "code",
   "execution_count": null,
   "metadata": {},
   "outputs": [],
   "source": []
  }
 ],
 "metadata": {
  "kernelspec": {
   "display_name": "Python 3",
   "language": "python",
   "name": "python3"
  },
  "language_info": {
   "codemirror_mode": {
    "name": "ipython",
    "version": 3
   },
   "file_extension": ".py",
   "mimetype": "text/x-python",
   "name": "python",
   "nbconvert_exporter": "python",
   "pygments_lexer": "ipython3",
   "version": "3.6.3"
  }
 },
 "nbformat": 4,
 "nbformat_minor": 2
}
