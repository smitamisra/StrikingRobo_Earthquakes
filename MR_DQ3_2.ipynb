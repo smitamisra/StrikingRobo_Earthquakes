{
 "cells": [
  {
   "cell_type": "code",
   "execution_count": 1,
   "metadata": {},
   "outputs": [],
   "source": [
    "#Import Packages\n",
    "\n",
    "from bs4 import BeautifulSoup as BS\n",
    "import urllib.request\n",
    "import pandas as pd\n",
    "\n",
    "import pandas as pd\n",
    "import numpy as np\n",
    "import geopandas as gpd\n",
    "from shapely.geometry import Point\n",
    "import matplotlib.pyplot as plt\n",
    "% matplotlib inline"
   ]
  },
  {
   "cell_type": "code",
   "execution_count": 2,
   "metadata": {},
   "outputs": [],
   "source": [
    "#Read in GeoJSONs with Geopandas\n",
    "\n",
    "plates_gdf = gpd.read_file(\"MR_Data/PB2002_plates.json\")\n",
    "countries_gdf = gpd.read_file(\"MR_Data/countries.geojson\")\n",
    "earthquakes_gdf = gpd.read_file(\"MR_Data/earthquakes.GeoJSON\")\n",
    "volcanoes_gdf = gpd.read_file(\"MR_Data/volcanoes.GeoJSON\")\n",
    "vents_gdf = gpd.read_file(\"MR_Data/vents.GeoJSON\")"
   ]
  },
  {
   "cell_type": "markdown",
   "metadata": {},
   "source": [
    "fig, ax = plt.subplots(figsize = (20, 20))\n",
    "ax.set_aspect('equal')\n",
    "plates_gdf.plot(ax=ax, color='blue', edgecolor='white', alpha = 0.3, lw = 2.0)\n",
    "countries_gdf.plot(ax=ax, edgecolor='black', alpha = 0.3)\n",
    "earthquakes_gdf.plot(ax=ax, markersize = 25, column = \"Magnitude\", cmap = \"rainbow\", marker = \"x\")\n",
    "volcanoes_gdf.plot(ax=ax, markersize = 25, column = \"Type\", cmap = \"rainbow\", marker = \"^\")\n",
    "vents_gdf.plot(ax=ax, markersize = 25, column = \"Depth\", cmap = \"rainbow\", marker = \"|\")"
   ]
  },
  {
   "cell_type": "markdown",
   "metadata": {},
   "source": [
    "earthquakes_gdf"
   ]
  },
  {
   "cell_type": "markdown",
   "metadata": {},
   "source": [
    "volcanoes_gdf.head(1)"
   ]
  },
  {
   "cell_type": "markdown",
   "metadata": {},
   "source": [
    "vents_gdf.head(1)"
   ]
  },
  {
   "cell_type": "markdown",
   "metadata": {},
   "source": [
    "eruptions = pd.read_table(\"MR_Data/volerup.txt\")"
   ]
  },
  {
   "cell_type": "markdown",
   "metadata": {},
   "source": [
    "#eruptions\n",
    "eruptions.info()"
   ]
  },
  {
   "cell_type": "markdown",
   "metadata": {},
   "source": [
    "eruptions = eruptions.drop([\"TOTAL_HOUSES_DESTROYED_DESCRIPTION\", \"TOTAL_HOUSES_DESTROYED\", \"TOTAL_DAMAGE_DESCRIPTION\", \n",
    "                            \"TOTAL_DAMAGE_MILLIONS_DOLLARS\", \"TOTAL_INJURIES_DESCRIPTION\", \"TOTAL_INJURIES\", \n",
    "                            \"TOTAL_MISSING_DESCRIPTION\", \"TOTAL_MISSING\", \"TOTAL_DEATHS_DESCRIPTION\", \n",
    "                            \"HOUSES_DESTROYED_DESCRIPTION\", \"HOUSES_DESTROYED\", \"DAMAGE_DESCRIPTION\", \n",
    "                            \"DAMAGE_MILLIONS_DOLLARS\", \"INJURIES_DESCRIPTION\", \"INJURIES\", \"MISSING_DESCRIPTION\", \n",
    "                            \"MISSING\", \"DEATHS_DESCRIPTION\", \"DEATHS\", \"Agent\"], axis = 1)\n",
    "#geometry_erupt = [Point(xy) for xy in zip(eruptions.Longitude, eruptions.Latitude)]\n",
    "#crs = {\"init\": \"epsg:4326\"} \n",
    "#eruptions_gdf = gpd.GeoDataFrame(eruptions, crs=crs, geometry=geometry_erupt)"
   ]
  },
  {
   "cell_type": "markdown",
   "metadata": {},
   "source": [
    "eruptions_gdf"
   ]
  },
  {
   "cell_type": "markdown",
   "metadata": {},
   "source": [
    "def web_scraper(url, class_):\n",
    "    request = urllib.request.Request(url)\n",
    "    result = urllib.request.urlopen(request)\n",
    "    resulttext = result.read()\n",
    "    soup = BS(resulttext, 'html.parser')\n",
    "    table = soup.find_all('table', class_=class_)\n",
    "    table_2 = table[0]\n",
    "    table_headers = table_2.find_all(\"th\")\n",
    "    columns = [th.text for th in table_headers]\n",
    "    rows = []\n",
    "    for tr in table_2.find_all(\"tr\")[1:]:\n",
    "        row_data = [td.text for td in tr.find_all(\"td\")]\n",
    "        rows.append(row_data)\n",
    "    return pd.DataFrame(rows, columns = columns)"
   ]
  },
  {
   "cell_type": "markdown",
   "metadata": {},
   "source": [
    "earthquakes_2 = WebScraper(\n",
    "    \"https://en.wikipedia.org/wiki/List_of_deadly_earthquakes_since_1900\", \n",
    "    \"sortable wikitable\", earthquakes_2)\n",
    "print(earthquakes_2)"
   ]
  },
  {
   "cell_type": "markdown",
   "metadata": {},
   "source": [
    "request = urllib.request.Request(\"https://en.wikipedia.org/wiki/List_of_large_volcanic_eruptions_of_the_20th_century\")\n",
    "result = urllib.request.urlopen(request)\n",
    "resulttext = result.read()\n",
    "soup = BS(resulttext, 'html.parser')\n",
    "table = soup.find_all('table', class_=\"wikitable sortable\")\n",
    "table_2 = table[0]\n",
    "#table_2\n",
    "table_headers = table_2.find_all(\"th\")[1:5]\n",
    "#table_headers\n",
    "columns = [th.text for th in table_headers]\n",
    "rows = []\n",
    "for tr in table_2.find_all(\"tr\")[1:]:\n",
    "    row_data = [td.text for td in tr.find_all(\"td\")]\n",
    "    rows.append(row_data)\n",
    "eruptions_2 = pd.DataFrame(rows, columns = columns)"
   ]
  },
  {
   "cell_type": "markdown",
   "metadata": {},
   "source": [
    "test = \"(\\[\\d+\\])\"\n",
    "eruptions_2[\"Volcano (eruption)\"] = eruptions_2[\"Volcano (eruption)\"].str.replace(test, \"\")\n",
    "eruptions_2.columns = [\"Name\", \"Year\", \"Casualties\", \"Notes\"]\n",
    "eruptions_2.head()"
   ]
  },
  {
   "cell_type": "markdown",
   "metadata": {},
   "source": [
    "#volcanoes_gdf.info()\n",
    "#cols = [\"Country\", \"Type\", \"lat\", \"lng\", \"Elevation\", \"geometry\"]\n",
    "volcanoes_2 = volcanoes_gdf.drop([\"Country\", \"Type\", \"Elevation\", \"geometry\"], axis = 1)\n",
    "volcanoes_2.columns = [\"Name\", \"lat\", \"lng\"]"
   ]
  },
  {
   "cell_type": "markdown",
   "metadata": {},
   "source": [
    "volcanoes[\"lat\"] = volcanoes[\"lat\"].astype(str)\n",
    "volcanoes[\"lng\"] = volcanoes[\"lng\"].astype(str)"
   ]
  },
  {
   "cell_type": "markdown",
   "metadata": {},
   "source": [
    "volcanoes.info()"
   ]
  },
  {
   "cell_type": "markdown",
   "metadata": {},
   "source": [
    "eruptions_2.info()"
   ]
  },
  {
   "cell_type": "markdown",
   "metadata": {},
   "source": [
    "eruptions_2[\"Name\"] = eruptions_2[\"Name\"].str.strip()"
   ]
  },
  {
   "cell_type": "markdown",
   "metadata": {},
   "source": [
    "eruptions_2[eruptions_2[\"Name\"].str.contains(\"Alaid\")]"
   ]
  },
  {
   "cell_type": "markdown",
   "metadata": {},
   "source": [
    "volcanoes_2[volcanoes_2[\"Name\"].str.contains(\"Alaid\")]"
   ]
  },
  {
   "cell_type": "markdown",
   "metadata": {},
   "source": [
    "#eruptions_new[\"lat\"] = volcanoes_2[\"Name\"].map(volcanoes_2.set_index(\"Name\")[\"lat\"])\n",
    "eruptions_new = eruptions_2.merge(volcanoes_2, how = \"left\", on = \"Name\")\n",
    "eruptions_new_notnull = eruptions_new[eruptions_new[\"lat\"].notnull()]\n",
    "#len(eruptions_new_notnull)\n",
    "#eruptions_new\n",
    "eruptions_new_notnull"
   ]
  },
  {
   "cell_type": "markdown",
   "metadata": {},
   "source": [
    "geometry_erupt_new = [Point(xy) for xy in zip(eruptions_new.lng, eruptions_new.lat)]\n",
    "crs = {\"init\": \"epsg:4326\"}\n",
    "eruptions_new_gdf = gpd.GeoDataFrame(eruptions_new, crs=crs, geometry=geometry_erupt_new)\n",
    "eruptions_new_gdf"
   ]
  },
  {
   "cell_type": "markdown",
   "metadata": {},
   "source": [
    "request = urllib.request.Request(\"https://en.wikipedia.org/wiki/List_of_submarine_volcanoes\")\n",
    "result = urllib.request.urlopen(request)\n",
    "resulttext = result.read()\n",
    "soup = BS(resulttext, 'html.parser')\n",
    "table = soup.find_all('table', class_=\"wikitable sortable\")\n",
    "table_2 = table[0]\n",
    "#table_2\n",
    "table_headers = table_2.find_all(\"th\")\n",
    "#table_headers\n",
    "columns = [th.text for th in table_headers]\n",
    "rows = []\n",
    "for tr in table_2.find_all(\"tr\")[1:]:\n",
    "    row_data = [td.text for td in tr.find_all(\"td\")]\n",
    "    rows.append(row_data)\n",
    "submarine = pd.DataFrame(rows, columns = columns)"
   ]
  },
  {
   "cell_type": "markdown",
   "metadata": {
    "collapsed": true
   },
   "source": [
    "submarine"
   ]
  },
  {
   "cell_type": "markdown",
   "metadata": {},
   "source": [
    "spade = \"(\\d*♠)\"\n",
    "submarine[\"Summit Elevation\"]=submarine[\"Summit Elevation\"].str.replace(spade, \"\")\n",
    "submarine[\"Approximate elevation above seafloor\"]=submarine[\"Approximate elevation above seafloor\"].str.replace(spade, \"\")"
   ]
  },
  {
   "cell_type": "markdown",
   "metadata": {
    "collapsed": true
   },
   "source": [
    "submarine"
   ]
  },
  {
   "cell_type": "markdown",
   "metadata": {},
   "source": [
    "coord_ms = \"(.*/.*/)\"\n",
    "submarine[\"Location\"]=submarine[\"Location\"].str.replace(coord_ms, \"\")"
   ]
  },
  {
   "cell_type": "markdown",
   "metadata": {
    "scrolled": true
   },
   "source": [
    "submarine"
   ]
  },
  {
   "cell_type": "markdown",
   "metadata": {},
   "source": [
    "submarine[['lat','lng']] = submarine['Location'].str.split(';',expand=True)"
   ]
  },
  {
   "cell_type": "markdown",
   "metadata": {},
   "source": [
    "submarine[\"lat\"] = submarine[\"lat\"].str.strip()\n",
    "submarine[\"lng\"] = submarine[\"lng\"].str.strip()\n",
    "submarine[\"lat\"] = pd.to_numeric(submarine[\"lat\"])\n",
    "submarine[\"lng\"] = pd.to_numeric(submarine[\"lng\"])"
   ]
  },
  {
   "cell_type": "markdown",
   "metadata": {
    "scrolled": true
   },
   "source": [
    "submarine"
   ]
  },
  {
   "cell_type": "markdown",
   "metadata": {},
   "source": [
    "geometry_sub = [Point(xy) for xy in zip(submarine.lng, submarine.lat)]\n",
    "crs = {\"init\": \"epsg:4326\"}\n",
    "submarine_gdf = gpd.GeoDataFrame(submarine, crs=crs, geometry=geometry_sub)\n",
    "submarine_gdf.head(1)"
   ]
  },
  {
   "cell_type": "markdown",
   "metadata": {},
   "source": [
    "submarine_gdf.plot()"
   ]
  },
  {
   "cell_type": "markdown",
   "metadata": {},
   "source": [
    "#encoding for \"utf-8\"\n",
    "#tsunamis = pd.read_table(\"MR_Data/tsevent.txt\", encoding = \"ISO-8859-1\")"
   ]
  },
  {
   "cell_type": "code",
   "execution_count": 3,
   "metadata": {},
   "outputs": [],
   "source": [
    "tsunamis_2 = pd.read_csv(\"MR_Data/tsunamis.csv\")\n",
    "tsunamis_2 = tsunamis_2.drop(\"Unnamed: 0\", axis = 1)\n",
    "tsunamis_2.columns = [\"Year\", \"Month\", \"Day\", \"Focal_Depth\", \"Magnitude\", \"Country\", \"Location\", \"lat\", \"lng\", \"Max_Water_Height\", \"Deaths\", \"Total_Deaths\"]\n",
    "tsunamis_2 = tsunamis_2.drop(0)\n",
    "#tsunamis_2\n",
    "#tsunamis_2[\"lat\"] = pd.to_numeric(tsunamis_2[\"lat\"])\n",
    "#tsunamis_2[\"lng\"] = pd.to_numeric(tsunamis_2[\"lng\"])\n",
    "#geometry_t = [Point(xy) for xy in zip(tsunamis_2.lng, tsunamis_2.lat)]\n",
    "#crs = {\"init\": \"epsg:4326\"}\n",
    "#tsunamis_gdf = gpd.GeoDataFrame(tsunamis_2, crs=crs, geometry=geometry_t)\n",
    "#tsunamis_gdf.head()"
   ]
  },
  {
   "cell_type": "markdown",
   "metadata": {},
   "source": [
    "DD = d + (min/60) + (sec/3600)"
   ]
  },
  {
   "cell_type": "markdown",
   "metadata": {
    "scrolled": false
   },
   "source": [
    "fig, ax = plt.subplots(figsize = (20, 20))\n",
    "ax.set_aspect('equal')\n",
    "plates_gdf.plot(ax=ax, color='blue', edgecolor='white', alpha = 0.3, lw = 2.0)\n",
    "countries_gdf.plot(ax=ax, edgecolor='black', alpha = 0.3)\n",
    "#earthquakes_gdf.plot(ax=ax, markersize = 25, column = \"Magnitude\", cmap = \"rainbow\", marker = \"x\")\n",
    "#volcanoes_gdf.plot(ax=ax, markersize = 5, color = \"red\") #, column = \"Type\", cmap = \"rainbow\", marker = \"^\")\n",
    "#vents_gdf.plot(ax=ax, markersize = 25, column = \"Depth\", cmap = \"rainbow\", marker = \"|\")\n",
    "#eruptions_gdf.plot(ax=ax, markersize = 5, color = \"orange\") #, column = \"Elevation\", cmap = \"rainbow\", marker = \"^\")\n",
    "#submarine_gdf.plot(ax=ax, markersize = 15, color = \"green\")\n",
    "#eruptions_new_gdf.plot(ax=ax, markersize = 5, color = \"b\")\n",
    "tsunamis_gdf.plot(ax=ax, markersize = 5, color = \"purple\")"
   ]
  },
  {
   "cell_type": "markdown",
   "metadata": {},
   "source": [
    "earthquakes_gdf.head(1)"
   ]
  },
  {
   "cell_type": "markdown",
   "metadata": {},
   "source": [
    "volcanoes_gdf.head(1)"
   ]
  },
  {
   "cell_type": "markdown",
   "metadata": {},
   "source": [
    "submarine_gdf.head(1)"
   ]
  },
  {
   "cell_type": "markdown",
   "metadata": {},
   "source": [
    "eruptions_gdf.head(1)"
   ]
  },
  {
   "cell_type": "markdown",
   "metadata": {},
   "source": [
    "eruptions_new_gdf.head(1)"
   ]
  },
  {
   "cell_type": "markdown",
   "metadata": {},
   "source": [
    "tsunamis_gdf.head(1)"
   ]
  },
  {
   "cell_type": "markdown",
   "metadata": {},
   "source": [
    "vents_gdf.head(1)"
   ]
  },
  {
   "cell_type": "markdown",
   "metadata": {},
   "source": [
    "columns to drop:\n",
    "Tsunamis = [\"Country\", \"Location\", :\"Max_Water_Height\"]\n",
    "Vents = [\"Name\", \"Activity\", \"Region\", \"Year&Discovered\"]\n",
    "Eruptions_new = [\"Notes\"]\n",
    "Eruptions = [\"Location\", \"Country\", \"Elevation\", \"Status\", \"Time\"]\n",
    "\n",
    "dfs to concat:\n",
    "submarine and volcanoes\n",
    "\n",
    "Things to fix:\n",
    "\n",
    "Merge between eruptions_2 and volcanoes."
   ]
  },
  {
   "cell_type": "code",
   "execution_count": 4,
   "metadata": {},
   "outputs": [],
   "source": [
    "earthquakes2_gdf = gpd.read_file(\"MR_Data/earthquakes2.GeoJSON\")\n",
    "eruptions_more_gdf = gpd.read_file(\"MR_Data/geoserver-GetFeature.application\")"
   ]
  },
  {
   "cell_type": "markdown",
   "metadata": {},
   "source": [
    "#earthquakes2_gdf\n",
    "#volcanoes2_gdf\n",
    "fig, ax = plt.subplots(figsize = (20, 20))\n",
    "ax.set_aspect('equal')\n",
    "plates_gdf.plot(ax=ax, color='blue', edgecolor='white', alpha = 0.3, lw = 2.0)\n",
    "countries_gdf.plot(ax=ax, edgecolor='black', alpha = 0.3)\n",
    "earthquakes2_gdf.plot(ax=ax, markersize = 5, color = \"red\")\n",
    "#eruptions_new_gdf.plot(ax=ax, markersize = 5, color = \"orange\")\n",
    "#eruptions_gdf.plot(ax=ax, markersize = 5, color = \"green\")\n",
    "eruptions_more_gdf.plot(ax=ax, markersize = 5, color = \"purple\")\n",
    "tsunamis_gdf.plot(ax=ax, markersize = 5, color = \"yellow\")"
   ]
  },
  {
   "cell_type": "code",
   "execution_count": 5,
   "metadata": {
    "scrolled": true
   },
   "outputs": [
    {
     "data": {
      "text/html": [
       "<div>\n",
       "<style scoped>\n",
       "    .dataframe tbody tr th:only-of-type {\n",
       "        vertical-align: middle;\n",
       "    }\n",
       "\n",
       "    .dataframe tbody tr th {\n",
       "        vertical-align: top;\n",
       "    }\n",
       "\n",
       "    .dataframe thead th {\n",
       "        text-align: right;\n",
       "    }\n",
       "</style>\n",
       "<table border=\"1\" class=\"dataframe\">\n",
       "  <thead>\n",
       "    <tr style=\"text-align: right;\">\n",
       "      <th></th>\n",
       "      <th>date</th>\n",
       "      <th>depth</th>\n",
       "      <th>mag</th>\n",
       "      <th>id</th>\n",
       "      <th>place</th>\n",
       "      <th>geometry</th>\n",
       "    </tr>\n",
       "  </thead>\n",
       "  <tbody>\n",
       "    <tr>\n",
       "      <th>0</th>\n",
       "      <td>19600102</td>\n",
       "      <td>15.0</td>\n",
       "      <td>6.3</td>\n",
       "      <td>iscgem877909</td>\n",
       "      <td>Bouvet Island region</td>\n",
       "      <td>POINT (-1.89 -55.877)</td>\n",
       "    </tr>\n",
       "  </tbody>\n",
       "</table>\n",
       "</div>"
      ],
      "text/plain": [
       "       date  depth  mag            id                 place  \\\n",
       "0  19600102   15.0  6.3  iscgem877909  Bouvet Island region   \n",
       "\n",
       "                geometry  \n",
       "0  POINT (-1.89 -55.877)  "
      ]
     },
     "execution_count": 5,
     "metadata": {},
     "output_type": "execute_result"
    }
   ],
   "source": [
    "earthquakes2_gdf.head(1)"
   ]
  },
  {
   "cell_type": "code",
   "execution_count": 6,
   "metadata": {},
   "outputs": [],
   "source": [
    "lat = []\n",
    "lng = []\n",
    "for point in earthquakes2_gdf[\"geometry\"]:\n",
    "    lng.append(point.x)\n",
    "    lat.append(point.y)\n",
    "#lat"
   ]
  },
  {
   "cell_type": "code",
   "execution_count": 7,
   "metadata": {},
   "outputs": [
    {
     "data": {
      "text/html": [
       "<div>\n",
       "<style scoped>\n",
       "    .dataframe tbody tr th:only-of-type {\n",
       "        vertical-align: middle;\n",
       "    }\n",
       "\n",
       "    .dataframe tbody tr th {\n",
       "        vertical-align: top;\n",
       "    }\n",
       "\n",
       "    .dataframe thead th {\n",
       "        text-align: right;\n",
       "    }\n",
       "</style>\n",
       "<table border=\"1\" class=\"dataframe\">\n",
       "  <thead>\n",
       "    <tr style=\"text-align: right;\">\n",
       "      <th></th>\n",
       "      <th>date</th>\n",
       "      <th>depth</th>\n",
       "      <th>mag</th>\n",
       "      <th>lat</th>\n",
       "      <th>lng</th>\n",
       "    </tr>\n",
       "  </thead>\n",
       "  <tbody>\n",
       "    <tr>\n",
       "      <th>0</th>\n",
       "      <td>19600102</td>\n",
       "      <td>15.0</td>\n",
       "      <td>6.3</td>\n",
       "      <td>-55.877</td>\n",
       "      <td>-1.890</td>\n",
       "    </tr>\n",
       "    <tr>\n",
       "      <th>1</th>\n",
       "      <td>19600103</td>\n",
       "      <td>15.0</td>\n",
       "      <td>5.7</td>\n",
       "      <td>43.700</td>\n",
       "      <td>84.542</td>\n",
       "    </tr>\n",
       "    <tr>\n",
       "      <th>2</th>\n",
       "      <td>19600104</td>\n",
       "      <td>15.0</td>\n",
       "      <td>6.1</td>\n",
       "      <td>11.374</td>\n",
       "      <td>42.609</td>\n",
       "    </tr>\n",
       "    <tr>\n",
       "      <th>3</th>\n",
       "      <td>19600107</td>\n",
       "      <td>55.0</td>\n",
       "      <td>5.5</td>\n",
       "      <td>6.352</td>\n",
       "      <td>94.547</td>\n",
       "    </tr>\n",
       "    <tr>\n",
       "      <th>4</th>\n",
       "      <td>19600107</td>\n",
       "      <td>15.0</td>\n",
       "      <td>5.6</td>\n",
       "      <td>6.418</td>\n",
       "      <td>94.756</td>\n",
       "    </tr>\n",
       "    <tr>\n",
       "      <th>5</th>\n",
       "      <td>19600107</td>\n",
       "      <td>35.0</td>\n",
       "      <td>6.2</td>\n",
       "      <td>-55.591</td>\n",
       "      <td>-27.278</td>\n",
       "    </tr>\n",
       "    <tr>\n",
       "      <th>6</th>\n",
       "      <td>19600108</td>\n",
       "      <td>35.0</td>\n",
       "      <td>6.0</td>\n",
       "      <td>-55.585</td>\n",
       "      <td>-27.475</td>\n",
       "    </tr>\n",
       "    <tr>\n",
       "      <th>7</th>\n",
       "      <td>19600108</td>\n",
       "      <td>15.0</td>\n",
       "      <td>5.9</td>\n",
       "      <td>-55.570</td>\n",
       "      <td>-27.115</td>\n",
       "    </tr>\n",
       "    <tr>\n",
       "      <th>8</th>\n",
       "      <td>19600111</td>\n",
       "      <td>15.0</td>\n",
       "      <td>5.6</td>\n",
       "      <td>16.046</td>\n",
       "      <td>95.832</td>\n",
       "    </tr>\n",
       "    <tr>\n",
       "      <th>9</th>\n",
       "      <td>19600112</td>\n",
       "      <td>10.0</td>\n",
       "      <td>5.8</td>\n",
       "      <td>23.401</td>\n",
       "      <td>122.323</td>\n",
       "    </tr>\n",
       "    <tr>\n",
       "      <th>10</th>\n",
       "      <td>19600112</td>\n",
       "      <td>35.0</td>\n",
       "      <td>6.0</td>\n",
       "      <td>-55.667</td>\n",
       "      <td>-27.135</td>\n",
       "    </tr>\n",
       "    <tr>\n",
       "      <th>11</th>\n",
       "      <td>19600115</td>\n",
       "      <td>65.0</td>\n",
       "      <td>7.1</td>\n",
       "      <td>-15.008</td>\n",
       "      <td>-74.867</td>\n",
       "    </tr>\n",
       "    <tr>\n",
       "      <th>12</th>\n",
       "      <td>19600117</td>\n",
       "      <td>45.0</td>\n",
       "      <td>5.9</td>\n",
       "      <td>-15.326</td>\n",
       "      <td>-75.396</td>\n",
       "    </tr>\n",
       "    <tr>\n",
       "      <th>13</th>\n",
       "      <td>19600119</td>\n",
       "      <td>52.9</td>\n",
       "      <td>5.5</td>\n",
       "      <td>51.531</td>\n",
       "      <td>158.276</td>\n",
       "    </tr>\n",
       "    <tr>\n",
       "      <th>14</th>\n",
       "      <td>19600121</td>\n",
       "      <td>25.0</td>\n",
       "      <td>6.0</td>\n",
       "      <td>-15.800</td>\n",
       "      <td>-179.407</td>\n",
       "    </tr>\n",
       "  </tbody>\n",
       "</table>\n",
       "</div>"
      ],
      "text/plain": [
       "        date  depth  mag     lat      lng\n",
       "0   19600102   15.0  6.3 -55.877   -1.890\n",
       "1   19600103   15.0  5.7  43.700   84.542\n",
       "2   19600104   15.0  6.1  11.374   42.609\n",
       "3   19600107   55.0  5.5   6.352   94.547\n",
       "4   19600107   15.0  5.6   6.418   94.756\n",
       "5   19600107   35.0  6.2 -55.591  -27.278\n",
       "6   19600108   35.0  6.0 -55.585  -27.475\n",
       "7   19600108   15.0  5.9 -55.570  -27.115\n",
       "8   19600111   15.0  5.6  16.046   95.832\n",
       "9   19600112   10.0  5.8  23.401  122.323\n",
       "10  19600112   35.0  6.0 -55.667  -27.135\n",
       "11  19600115   65.0  7.1 -15.008  -74.867\n",
       "12  19600117   45.0  5.9 -15.326  -75.396\n",
       "13  19600119   52.9  5.5  51.531  158.276\n",
       "14  19600121   25.0  6.0 -15.800 -179.407"
      ]
     },
     "execution_count": 7,
     "metadata": {},
     "output_type": "execute_result"
    }
   ],
   "source": [
    "earthquakes2 = earthquakes2_gdf.drop([\"geometry\", \"place\", \"id\"], axis = 1)\n",
    "earthquakes2[\"lat\"] = lat\n",
    "earthquakes2[\"lng\"] = lng\n",
    "earthquakes2.head(15)"
   ]
  },
  {
   "cell_type": "code",
   "execution_count": 8,
   "metadata": {},
   "outputs": [
    {
     "data": {
      "text/html": [
       "<div>\n",
       "<style scoped>\n",
       "    .dataframe tbody tr th:only-of-type {\n",
       "        vertical-align: middle;\n",
       "    }\n",
       "\n",
       "    .dataframe tbody tr th {\n",
       "        vertical-align: top;\n",
       "    }\n",
       "\n",
       "    .dataframe thead th {\n",
       "        text-align: right;\n",
       "    }\n",
       "</style>\n",
       "<table border=\"1\" class=\"dataframe\">\n",
       "  <thead>\n",
       "    <tr style=\"text-align: right;\">\n",
       "      <th></th>\n",
       "      <th>Year</th>\n",
       "      <th>Month</th>\n",
       "      <th>Day</th>\n",
       "      <th>lat</th>\n",
       "      <th>lng</th>\n",
       "      <th>Mag</th>\n",
       "      <th>Depth</th>\n",
       "    </tr>\n",
       "  </thead>\n",
       "  <tbody>\n",
       "    <tr>\n",
       "      <th>0</th>\n",
       "      <td>1960</td>\n",
       "      <td>01</td>\n",
       "      <td>02</td>\n",
       "      <td>-55.877</td>\n",
       "      <td>-1.890</td>\n",
       "      <td>6.3</td>\n",
       "      <td>15.0</td>\n",
       "    </tr>\n",
       "    <tr>\n",
       "      <th>1</th>\n",
       "      <td>1960</td>\n",
       "      <td>01</td>\n",
       "      <td>03</td>\n",
       "      <td>43.700</td>\n",
       "      <td>84.542</td>\n",
       "      <td>5.7</td>\n",
       "      <td>15.0</td>\n",
       "    </tr>\n",
       "    <tr>\n",
       "      <th>2</th>\n",
       "      <td>1960</td>\n",
       "      <td>01</td>\n",
       "      <td>04</td>\n",
       "      <td>11.374</td>\n",
       "      <td>42.609</td>\n",
       "      <td>6.1</td>\n",
       "      <td>15.0</td>\n",
       "    </tr>\n",
       "    <tr>\n",
       "      <th>3</th>\n",
       "      <td>1960</td>\n",
       "      <td>01</td>\n",
       "      <td>07</td>\n",
       "      <td>6.352</td>\n",
       "      <td>94.547</td>\n",
       "      <td>5.5</td>\n",
       "      <td>55.0</td>\n",
       "    </tr>\n",
       "    <tr>\n",
       "      <th>4</th>\n",
       "      <td>1960</td>\n",
       "      <td>01</td>\n",
       "      <td>07</td>\n",
       "      <td>6.418</td>\n",
       "      <td>94.756</td>\n",
       "      <td>5.6</td>\n",
       "      <td>15.0</td>\n",
       "    </tr>\n",
       "  </tbody>\n",
       "</table>\n",
       "</div>"
      ],
      "text/plain": [
       "   Year Month Day     lat     lng  Mag  Depth\n",
       "0  1960    01  02 -55.877  -1.890  6.3   15.0\n",
       "1  1960    01  03  43.700  84.542  5.7   15.0\n",
       "2  1960    01  04  11.374  42.609  6.1   15.0\n",
       "3  1960    01  07   6.352  94.547  5.5   55.0\n",
       "4  1960    01  07   6.418  94.756  5.6   15.0"
      ]
     },
     "execution_count": 8,
     "metadata": {},
     "output_type": "execute_result"
    }
   ],
   "source": [
    "earthquakes2[\"date\"] = earthquakes2[\"date\"].apply(str)\n",
    "year = \"(\\d\\d\\d\\d)\"\n",
    "month = \"(\\d\\d)\"\n",
    "earthquakes2[\"year\"] = earthquakes2[\"date\"].str.extract(year, expand = True)\n",
    "earthquakes2[\"date\"] = earthquakes2[\"date\"].str[4:]\n",
    "earthquakes2[\"month\"] = earthquakes2[\"date\"].str.extract(month, expand = True)\n",
    "earthquakes2[\"date\"] = earthquakes2[\"date\"].str[2:]\n",
    "earthquakes2.columns = [\"Day\", \"Depth\", \"Mag\", \"lat\", \"lng\", \"Year\", \"Month\"]\n",
    "earthquakes2 = earthquakes2[[\"Year\", \"Month\", \"Day\", \"lat\", \"lng\", \"Mag\", \"Depth\"]]\n",
    "earthquakes2.head()\n",
    "#for date in earthquakes2[\"date\"]:\n",
    "#    year_md = [date[i:i+4] for i in range(0, len(date), 4)]\n",
    "\n",
    "#year_md"
   ]
  },
  {
   "cell_type": "code",
   "execution_count": 9,
   "metadata": {},
   "outputs": [
    {
     "data": {
      "text/html": [
       "<div>\n",
       "<style scoped>\n",
       "    .dataframe tbody tr th:only-of-type {\n",
       "        vertical-align: middle;\n",
       "    }\n",
       "\n",
       "    .dataframe tbody tr th {\n",
       "        vertical-align: top;\n",
       "    }\n",
       "\n",
       "    .dataframe thead th {\n",
       "        text-align: right;\n",
       "    }\n",
       "</style>\n",
       "<table border=\"1\" class=\"dataframe\">\n",
       "  <thead>\n",
       "    <tr style=\"text-align: right;\">\n",
       "      <th></th>\n",
       "      <th>ExplosivityIndexMax</th>\n",
       "      <th>StartDateYear</th>\n",
       "      <th>StartDateMonth</th>\n",
       "      <th>StartDateDay</th>\n",
       "      <th>EndDateYear</th>\n",
       "      <th>EndDateMonth</th>\n",
       "      <th>EndDateDay</th>\n",
       "      <th>ContinuingEruption</th>\n",
       "      <th>LatitudeDecimal</th>\n",
       "      <th>LongitudeDecimal</th>\n",
       "    </tr>\n",
       "  </thead>\n",
       "  <tbody>\n",
       "    <tr>\n",
       "      <th>0</th>\n",
       "      <td>2</td>\n",
       "      <td>1934</td>\n",
       "      <td>2</td>\n",
       "      <td>2</td>\n",
       "      <td>2017.0</td>\n",
       "      <td>11.0</td>\n",
       "      <td>1.0</td>\n",
       "      <td>True</td>\n",
       "      <td>38.789</td>\n",
       "      <td>15.213</td>\n",
       "    </tr>\n",
       "  </tbody>\n",
       "</table>\n",
       "</div>"
      ],
      "text/plain": [
       "   ExplosivityIndexMax  StartDateYear  StartDateMonth  StartDateDay  \\\n",
       "0                    2           1934               2             2   \n",
       "\n",
       "   EndDateYear  EndDateMonth  EndDateDay ContinuingEruption  LatitudeDecimal  \\\n",
       "0       2017.0          11.0         1.0               True           38.789   \n",
       "\n",
       "   LongitudeDecimal  \n",
       "0            15.213  "
      ]
     },
     "execution_count": 9,
     "metadata": {},
     "output_type": "execute_result"
    }
   ],
   "source": [
    "eruptions_more_gdf = eruptions_more_gdf.drop([\"id\", \"VolcanoName\", \"VolcanoNumber\", \"StartDate\", \"EndDate\", \"Activity_ID\", \"geometry\"], axis = 1)\n",
    "eruptions = pd.DataFrame(eruptions_more_gdf)\n",
    "eruptions.head(1)"
   ]
  },
  {
   "cell_type": "code",
   "execution_count": 10,
   "metadata": {},
   "outputs": [
    {
     "data": {
      "text/html": [
       "<div>\n",
       "<style scoped>\n",
       "    .dataframe tbody tr th:only-of-type {\n",
       "        vertical-align: middle;\n",
       "    }\n",
       "\n",
       "    .dataframe tbody tr th {\n",
       "        vertical-align: top;\n",
       "    }\n",
       "\n",
       "    .dataframe thead th {\n",
       "        text-align: right;\n",
       "    }\n",
       "</style>\n",
       "<table border=\"1\" class=\"dataframe\">\n",
       "  <thead>\n",
       "    <tr style=\"text-align: right;\">\n",
       "      <th></th>\n",
       "      <th>Year</th>\n",
       "      <th>Month</th>\n",
       "      <th>Day</th>\n",
       "      <th>lat</th>\n",
       "      <th>lng</th>\n",
       "      <th>ExplosivityIndexMax</th>\n",
       "      <th>End_Year</th>\n",
       "      <th>End_Month</th>\n",
       "      <th>End_Day</th>\n",
       "      <th>Continuing</th>\n",
       "    </tr>\n",
       "  </thead>\n",
       "  <tbody>\n",
       "    <tr>\n",
       "      <th>0</th>\n",
       "      <td>1934</td>\n",
       "      <td>2</td>\n",
       "      <td>2</td>\n",
       "      <td>38.789</td>\n",
       "      <td>15.213</td>\n",
       "      <td>2</td>\n",
       "      <td>2017.0</td>\n",
       "      <td>11.0</td>\n",
       "      <td>1.0</td>\n",
       "      <td>True</td>\n",
       "    </tr>\n",
       "    <tr>\n",
       "      <th>1</th>\n",
       "      <td>2010</td>\n",
       "      <td>8</td>\n",
       "      <td>25</td>\n",
       "      <td>37.748</td>\n",
       "      <td>14.999</td>\n",
       "      <td>1</td>\n",
       "      <td>2013.0</td>\n",
       "      <td>4.0</td>\n",
       "      <td>27.0</td>\n",
       "      <td>False</td>\n",
       "    </tr>\n",
       "    <tr>\n",
       "      <th>2</th>\n",
       "      <td>2013</td>\n",
       "      <td>9</td>\n",
       "      <td>3</td>\n",
       "      <td>37.748</td>\n",
       "      <td>14.999</td>\n",
       "      <td>2</td>\n",
       "      <td>2017.0</td>\n",
       "      <td>11.0</td>\n",
       "      <td>16.0</td>\n",
       "      <td>True</td>\n",
       "    </tr>\n",
       "    <tr>\n",
       "      <th>3</th>\n",
       "      <td>2004</td>\n",
       "      <td>9</td>\n",
       "      <td>7</td>\n",
       "      <td>37.748</td>\n",
       "      <td>14.999</td>\n",
       "      <td>1</td>\n",
       "      <td>2005.0</td>\n",
       "      <td>3.0</td>\n",
       "      <td>8.0</td>\n",
       "      <td>False</td>\n",
       "    </tr>\n",
       "    <tr>\n",
       "      <th>4</th>\n",
       "      <td>2005</td>\n",
       "      <td>12</td>\n",
       "      <td>16</td>\n",
       "      <td>37.748</td>\n",
       "      <td>14.999</td>\n",
       "      <td>1</td>\n",
       "      <td>2005.0</td>\n",
       "      <td>12.0</td>\n",
       "      <td>22.0</td>\n",
       "      <td>False</td>\n",
       "    </tr>\n",
       "  </tbody>\n",
       "</table>\n",
       "</div>"
      ],
      "text/plain": [
       "   Year  Month  Day     lat     lng  ExplosivityIndexMax  End_Year  End_Month  \\\n",
       "0  1934      2    2  38.789  15.213                    2    2017.0       11.0   \n",
       "1  2010      8   25  37.748  14.999                    1    2013.0        4.0   \n",
       "2  2013      9    3  37.748  14.999                    2    2017.0       11.0   \n",
       "3  2004      9    7  37.748  14.999                    1    2005.0        3.0   \n",
       "4  2005     12   16  37.748  14.999                    1    2005.0       12.0   \n",
       "\n",
       "   End_Day Continuing  \n",
       "0      1.0       True  \n",
       "1     27.0      False  \n",
       "2     16.0       True  \n",
       "3      8.0      False  \n",
       "4     22.0      False  "
      ]
     },
     "execution_count": 10,
     "metadata": {},
     "output_type": "execute_result"
    }
   ],
   "source": [
    "eruptions.columns = [\"ExplosivityIndexMax\", \"Year\", \"Month\", \"Day\", \"End_Year\", \"End_Month\", \"End_Day\", \"Continuing\", \"lat\", \"lng\"]\n",
    "eruptions = eruptions[[\"Year\", \"Month\", \"Day\", \"lat\", \"lng\", \"ExplosivityIndexMax\", \"End_Year\", \"End_Month\", \"End_Day\", \"Continuing\"]]\n",
    "eruptions.head()"
   ]
  },
  {
   "cell_type": "code",
   "execution_count": 11,
   "metadata": {},
   "outputs": [
    {
     "data": {
      "text/html": [
       "<div>\n",
       "<style scoped>\n",
       "    .dataframe tbody tr th:only-of-type {\n",
       "        vertical-align: middle;\n",
       "    }\n",
       "\n",
       "    .dataframe tbody tr th {\n",
       "        vertical-align: top;\n",
       "    }\n",
       "\n",
       "    .dataframe thead th {\n",
       "        text-align: right;\n",
       "    }\n",
       "</style>\n",
       "<table border=\"1\" class=\"dataframe\">\n",
       "  <thead>\n",
       "    <tr style=\"text-align: right;\">\n",
       "      <th></th>\n",
       "      <th>Year</th>\n",
       "      <th>Month</th>\n",
       "      <th>Day</th>\n",
       "      <th>lat</th>\n",
       "      <th>lng</th>\n",
       "      <th>Magnitude</th>\n",
       "      <th>Focal_Depth</th>\n",
       "      <th>Max_Water_Height</th>\n",
       "      <th>Deaths</th>\n",
       "      <th>Total_Deaths</th>\n",
       "    </tr>\n",
       "  </thead>\n",
       "  <tbody>\n",
       "    <tr>\n",
       "      <th>1</th>\n",
       "      <td>-2000</td>\n",
       "      <td>NaN</td>\n",
       "      <td>NaN</td>\n",
       "      <td>35.683</td>\n",
       "      <td>35.8</td>\n",
       "      <td>NaN</td>\n",
       "      <td>NaN</td>\n",
       "      <td>NaN</td>\n",
       "      <td>NaN</td>\n",
       "      <td>NaN</td>\n",
       "    </tr>\n",
       "  </tbody>\n",
       "</table>\n",
       "</div>"
      ],
      "text/plain": [
       "    Year Month  Day     lat   lng Magnitude Focal_Depth Max_Water_Height  \\\n",
       "1  -2000   NaN  NaN  35.683  35.8       NaN         NaN              NaN   \n",
       "\n",
       "  Deaths Total_Deaths  \n",
       "1    NaN          NaN  "
      ]
     },
     "execution_count": 11,
     "metadata": {},
     "output_type": "execute_result"
    }
   ],
   "source": [
    "tsunamis_2 = tsunamis_2.drop([\"Country\", \"Location\"], axis = 1)\n",
    "tsunamis_2 = tsunamis_2[[\"Year\", \"Month\", \"Day\", \"lat\", \"lng\", \"Magnitude\", \"Focal_Depth\", \"Max_Water_Height\", \"Deaths\", \"Total_Deaths\"]]\n",
    "tsunamis_2.head(1)"
   ]
  },
  {
   "cell_type": "code",
   "execution_count": 12,
   "metadata": {},
   "outputs": [],
   "source": [
    "earthquakes2.to_json(\"JSONs_for_TP/earthquakes2.json\")\n",
    "eruptions.to_json(\"JSONs_for_TP/eruptions.json\")\n",
    "tsunamis_2.to_json(\"JSONs_for_TP/tsunamis.json\")"
   ]
  },
  {
   "cell_type": "code",
   "execution_count": null,
   "metadata": {},
   "outputs": [],
   "source": []
  }
 ],
 "metadata": {
  "kernelspec": {
   "display_name": "Python 3",
   "language": "python",
   "name": "python3"
  },
  "language_info": {
   "codemirror_mode": {
    "name": "ipython",
    "version": 3
   },
   "file_extension": ".py",
   "mimetype": "text/x-python",
   "name": "python",
   "nbconvert_exporter": "python",
   "pygments_lexer": "ipython3",
   "version": "3.6.3"
  }
 },
 "nbformat": 4,
 "nbformat_minor": 2
}
