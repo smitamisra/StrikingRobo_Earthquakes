{
 "cells": [
  {
   "cell_type": "code",
   "execution_count": 1,
   "metadata": {},
   "outputs": [],
   "source": [
    "import matplotlib.pyplot as plt\n",
    "\n",
    "from bs4 import BeautifulSoup as BS\n",
    "import urllib as url\n",
    "import pandas as pd\n",
    "import numpy as np\n",
    "\n",
    "from shapely.geometry import Point\n",
    "import geopandas as gpd\n",
    "from geopandas import GeoDataFrame"
   ]
  },
  {
   "cell_type": "code",
   "execution_count": 2,
   "metadata": {},
   "outputs": [],
   "source": [
    "%matplotlib inline"
   ]
  },
  {
   "cell_type": "code",
   "execution_count": 3,
   "metadata": {},
   "outputs": [],
   "source": [
    "# Initializing Request object by passing in the earthquake's url, and assigning the reults to resulttext\n",
    "request = url.request.Request(\"https://en.wikipedia.org/wiki/List_of_deadly_earthquakes_since_1900\")\n",
    "result = url.request.urlopen(request)\n",
    "resulttext = result.read()"
   ]
  },
  {
   "cell_type": "code",
   "execution_count": 4,
   "metadata": {},
   "outputs": [],
   "source": [
    "# Initialize a BeautifulSoup instance of the sring-ed version of the website's html\n",
    "soup = BS(resulttext, 'html.parser')"
   ]
  },
  {
   "cell_type": "code",
   "execution_count": 5,
   "metadata": {},
   "outputs": [],
   "source": [
    "# There are six different tables on the website, so I am targetting the table with specific classes. \n",
    "# This returns a list, so I assert that the list length is equal to one (so I know I am only working with one table),\n",
    "# then assign the first index to my variable to reference.\n",
    "earthquake_table_list = soup.find_all('table', class_=['sortable', 'wikitable', 'jquery-tablesorter'])\n",
    "assert len(earthquake_table_list) == 1\n",
    "\n",
    "earthquake_table = earthquake_table_list[0]"
   ]
  },
  {
   "cell_type": "code",
   "execution_count": 6,
   "metadata": {},
   "outputs": [],
   "source": [
    "# Grab all of the 'th' elements, grab the text from each one, and assign the results to a list. \n",
    "# This will be used when creating the pandas df for column name assignment\n",
    "table_header = earthquake_table.find_all('th')\n",
    "\n",
    "columns = [th.text for th in table_header]"
   ]
  },
  {
   "cell_type": "code",
   "execution_count": 7,
   "metadata": {},
   "outputs": [
    {
     "name": "stdout",
     "output_type": "stream",
     "text": [
      "['Origin (UTC)', 'Present-day country and link to Wikipedia article', 'Lat', 'Long', 'Depth (km)', 'Magnitude', 'Secondary Effects', 'PDE Shaking Deaths', 'PDE Total Deaths', 'Utsu Total Deaths', 'EM-DAT Total Deaths', 'Other Source Deaths']\n"
     ]
    }
   ],
   "source": [
    "print(columns)"
   ]
  },
  {
   "cell_type": "code",
   "execution_count": 8,
   "metadata": {},
   "outputs": [],
   "source": [
    "# Find all table rows\n",
    "table_rows = earthquake_table.find_all('tr')[1:]\n",
    "\n",
    "# Create an empty list that will ultimately hold.. more lists. The nested lists will hold each individual value per \n",
    "# column, per row\n",
    "df_rows = list()\n",
    "for row in table_rows:\n",
    "    # Grab the text from each row, and assign it to a list. Append this list to df_rows\n",
    "    row_data= [data.text for data in row.find_all('td')]\n",
    "    \n",
    "    df_rows.append(row_data)"
   ]
  },
  {
   "cell_type": "code",
   "execution_count": 9,
   "metadata": {},
   "outputs": [
    {
     "name": "stdout",
     "output_type": "stream",
     "text": [
      "['1900-05-11 17:23', 'Japan', '38.700', '141.100', '5', '7.0 MJMA', '', '', '', '', '', '']\n",
      "['1900-07-12 06:25', 'Turkey', '40.300', '43.100', '', '5.9 Muk', '', '', '', '140', '', '']\n",
      "['1900-10-29 09:11', 'Venezuela', '11.000', '-66.000', '0', '7.7 Mw', '', '', '', '', '', '']\n",
      "['1901-02-15 00:00', 'China', '26.000', '100.100', '0', '6.5 Ms', '', '', '', '', '', '']\n",
      "['1901-03-31 07:11', 'Bulgaria', '43.400', '28.700', '', '6.4 Muk', '', '', '', '4', '', '']\n"
     ]
    }
   ],
   "source": [
    "for row in df_rows[:5]:\n",
    "    print(row)"
   ]
  },
  {
   "cell_type": "code",
   "execution_count": 10,
   "metadata": {},
   "outputs": [
    {
     "data": {
      "text/plain": [
       "Index(['Present-day country and link to Wikipedia article', 'Lat', 'Long',\n",
       "       'Depth (km)', 'Magnitude', 'Secondary Effects', 'PDE Shaking Deaths',\n",
       "       'PDE Total Deaths', 'Utsu Total Deaths', 'EM-DAT Total Deaths'],\n",
       "      dtype='object')"
      ]
     },
     "execution_count": 10,
     "metadata": {},
     "output_type": "execute_result"
    }
   ],
   "source": [
    "# Create a pandas df using the columns and rows we scraped.\n",
    "earthquake_df = pd.DataFrame(data=df_rows, columns=columns)\n",
    "\n",
    "# Drop 'Other Source Deaths' column, per request from README.md\n",
    "earthquake_df.drop(columns=['Other Source Deaths'], inplace=True)\n",
    "\n",
    "# Since the 'Origin (UTC)' column is a date string, I am transforming it to a datetime object and assigning it \n",
    "# to the index. I can imagine using datetime range queries later on, and converting these now seems appropriate\n",
    "# and will be much easier later on. \n",
    "earthquake_df['Origin (UTC)'] = pd.to_datetime(earthquake_df['Origin (UTC)'])\n",
    "earthquake_df.set_index('Origin (UTC)', inplace=True)\n",
    "\n",
    "# Replace the remaining empty strings to np.nan values\n",
    "# earthquake_df.replace(r'^\\s*$', np.nan, regex=True, inplace=True)\n",
    "earthquake_df.replace(\"\", np.nan, inplace=True)\n",
    "\n",
    "earthquake_df.columns"
   ]
  },
  {
   "cell_type": "code",
   "execution_count": 11,
   "metadata": {},
   "outputs": [],
   "source": [
    "columns_to_convert = ['PDE Total Deaths', 'PDE Shaking Deaths', 'Utsu Total Deaths', 'EM-DAT Total Deaths', 'Magnitude']"
   ]
  },
  {
   "cell_type": "code",
   "execution_count": 12,
   "metadata": {},
   "outputs": [],
   "source": [
    "\"\"\"There are some bad characters in this column, so this regex just grabs the int\"\"\"\n",
    "for col in columns_to_convert:\n",
    "    try:\n",
    "        earthquake_df[col] = earthquake_df[col].str.extract('(\\[\\d+\\]|\\(.*\\)|\\*|\\+)', expand=True)\n",
    "    except ValueError:\n",
    "        earthquake_df[col] = 0"
   ]
  },
  {
   "cell_type": "code",
   "execution_count": 13,
   "metadata": {},
   "outputs": [],
   "source": [
    "def nan_to_int(df, columns, value=-1, inplace=True):\n",
    "    \"\"\"Transforms the column in the dataframe to a float32 column, rather than the object type. \n",
    "    Also fills all NaN values to -1.\n",
    "    \"\"\"\n",
    "    for col in columns:        \n",
    "        df[col].fillna(value=value, inplace=inplace)\n",
    "        df[col] = pd.to_numeric(df[col], downcast='float')"
   ]
  },
  {
   "cell_type": "code",
   "execution_count": 14,
   "metadata": {},
   "outputs": [],
   "source": [
    "# nan_to_int(df=earthquake_df, columns=columns_to_convert)\n",
    "# nan_to_int(df=earthquake_df, columns=['Lat', 'Long'], value=0.0)"
   ]
  },
  {
   "cell_type": "code",
   "execution_count": 15,
   "metadata": {},
   "outputs": [
    {
     "data": {
      "text/html": [
       "<div>\n",
       "<style scoped>\n",
       "    .dataframe tbody tr th:only-of-type {\n",
       "        vertical-align: middle;\n",
       "    }\n",
       "\n",
       "    .dataframe tbody tr th {\n",
       "        vertical-align: top;\n",
       "    }\n",
       "\n",
       "    .dataframe thead th {\n",
       "        text-align: right;\n",
       "    }\n",
       "</style>\n",
       "<table border=\"1\" class=\"dataframe\">\n",
       "  <thead>\n",
       "    <tr style=\"text-align: right;\">\n",
       "      <th></th>\n",
       "      <th>Present-day country and link to Wikipedia article</th>\n",
       "      <th>Lat</th>\n",
       "      <th>Long</th>\n",
       "      <th>Depth (km)</th>\n",
       "      <th>Magnitude</th>\n",
       "      <th>Secondary Effects</th>\n",
       "      <th>PDE Shaking Deaths</th>\n",
       "      <th>PDE Total Deaths</th>\n",
       "      <th>Utsu Total Deaths</th>\n",
       "      <th>EM-DAT Total Deaths</th>\n",
       "    </tr>\n",
       "    <tr>\n",
       "      <th>Origin (UTC)</th>\n",
       "      <th></th>\n",
       "      <th></th>\n",
       "      <th></th>\n",
       "      <th></th>\n",
       "      <th></th>\n",
       "      <th></th>\n",
       "      <th></th>\n",
       "      <th></th>\n",
       "      <th></th>\n",
       "      <th></th>\n",
       "    </tr>\n",
       "  </thead>\n",
       "  <tbody>\n",
       "    <tr>\n",
       "      <th>1900-05-11 17:23:00</th>\n",
       "      <td>Japan</td>\n",
       "      <td>38.700</td>\n",
       "      <td>141.100</td>\n",
       "      <td>5</td>\n",
       "      <td>NaN</td>\n",
       "      <td>NaN</td>\n",
       "      <td>NaN</td>\n",
       "      <td>NaN</td>\n",
       "      <td>NaN</td>\n",
       "      <td>NaN</td>\n",
       "    </tr>\n",
       "    <tr>\n",
       "      <th>1900-07-12 06:25:00</th>\n",
       "      <td>Turkey</td>\n",
       "      <td>40.300</td>\n",
       "      <td>43.100</td>\n",
       "      <td>NaN</td>\n",
       "      <td>NaN</td>\n",
       "      <td>NaN</td>\n",
       "      <td>NaN</td>\n",
       "      <td>NaN</td>\n",
       "      <td>NaN</td>\n",
       "      <td>NaN</td>\n",
       "    </tr>\n",
       "    <tr>\n",
       "      <th>1900-10-29 09:11:00</th>\n",
       "      <td>Venezuela</td>\n",
       "      <td>11.000</td>\n",
       "      <td>-66.000</td>\n",
       "      <td>0</td>\n",
       "      <td>NaN</td>\n",
       "      <td>NaN</td>\n",
       "      <td>NaN</td>\n",
       "      <td>NaN</td>\n",
       "      <td>NaN</td>\n",
       "      <td>NaN</td>\n",
       "    </tr>\n",
       "    <tr>\n",
       "      <th>1901-02-15 00:00:00</th>\n",
       "      <td>China</td>\n",
       "      <td>26.000</td>\n",
       "      <td>100.100</td>\n",
       "      <td>0</td>\n",
       "      <td>NaN</td>\n",
       "      <td>NaN</td>\n",
       "      <td>NaN</td>\n",
       "      <td>NaN</td>\n",
       "      <td>NaN</td>\n",
       "      <td>NaN</td>\n",
       "    </tr>\n",
       "    <tr>\n",
       "      <th>1901-03-31 07:11:00</th>\n",
       "      <td>Bulgaria</td>\n",
       "      <td>43.400</td>\n",
       "      <td>28.700</td>\n",
       "      <td>NaN</td>\n",
       "      <td>NaN</td>\n",
       "      <td>NaN</td>\n",
       "      <td>NaN</td>\n",
       "      <td>NaN</td>\n",
       "      <td>NaN</td>\n",
       "      <td>NaN</td>\n",
       "    </tr>\n",
       "  </tbody>\n",
       "</table>\n",
       "</div>"
      ],
      "text/plain": [
       "                    Present-day country and link to Wikipedia article     Lat  \\\n",
       "Origin (UTC)                                                                    \n",
       "1900-05-11 17:23:00                                             Japan  38.700   \n",
       "1900-07-12 06:25:00                                            Turkey  40.300   \n",
       "1900-10-29 09:11:00                                         Venezuela  11.000   \n",
       "1901-02-15 00:00:00                                             China  26.000   \n",
       "1901-03-31 07:11:00                                          Bulgaria  43.400   \n",
       "\n",
       "                        Long Depth (km) Magnitude Secondary Effects  \\\n",
       "Origin (UTC)                                                          \n",
       "1900-05-11 17:23:00  141.100          5       NaN               NaN   \n",
       "1900-07-12 06:25:00   43.100        NaN       NaN               NaN   \n",
       "1900-10-29 09:11:00  -66.000          0       NaN               NaN   \n",
       "1901-02-15 00:00:00  100.100          0       NaN               NaN   \n",
       "1901-03-31 07:11:00   28.700        NaN       NaN               NaN   \n",
       "\n",
       "                    PDE Shaking Deaths PDE Total Deaths Utsu Total Deaths  \\\n",
       "Origin (UTC)                                                                \n",
       "1900-05-11 17:23:00                NaN              NaN               NaN   \n",
       "1900-07-12 06:25:00                NaN              NaN               NaN   \n",
       "1900-10-29 09:11:00                NaN              NaN               NaN   \n",
       "1901-02-15 00:00:00                NaN              NaN               NaN   \n",
       "1901-03-31 07:11:00                NaN              NaN               NaN   \n",
       "\n",
       "                    EM-DAT Total Deaths  \n",
       "Origin (UTC)                             \n",
       "1900-05-11 17:23:00                 NaN  \n",
       "1900-07-12 06:25:00                 NaN  \n",
       "1900-10-29 09:11:00                 NaN  \n",
       "1901-02-15 00:00:00                 NaN  \n",
       "1901-03-31 07:11:00                 NaN  "
      ]
     },
     "execution_count": 15,
     "metadata": {},
     "output_type": "execute_result"
    }
   ],
   "source": [
    "earthquake_df.head()"
   ]
  },
  {
   "cell_type": "code",
   "execution_count": 16,
   "metadata": {},
   "outputs": [],
   "source": [
    "# Fill all na vals with 0.0\n",
    "earthquake_df['Lat'].fillna(value=0.0, inplace=True)\n",
    "earthquake_df['Long'].fillna(value=0.0, inplace=True)\n",
    "\n",
    "# Prepare a list of lat lng values to be transformed into a Point instance\n",
    "lat_lng = list()\n",
    "for row in earthquake_df[['Lat', 'Long']].itertuples():\n",
    "    try:\n",
    "        lat = float(row.Lat)\n",
    "        lng = float(row.Long)\n",
    "    except ValueError:\n",
    "        lat = 0.0\n",
    "        lng = 0.0\n",
    "        \n",
    "    lat_lng.append((lat, lng))\n",
    "\n",
    "lat = [coord[0] for coord in lat_lng]\n",
    "lng = [coord[1] for coord in lat_lng]"
   ]
  },
  {
   "cell_type": "code",
   "execution_count": 17,
   "metadata": {},
   "outputs": [],
   "source": [
    "# Create the list for geometry column in the new GeoDataFrame\n",
    "geometry = [Point(xy) for xy in zip(lng, lat)]\n",
    "earthquake_df.drop(['Lat', 'Long'], axis=1)\n",
    "crs = {'init': 'epsg:4326'}\n",
    "\n",
    "# Initialize the dataframe\n",
    "gdf = GeoDataFrame(earthquake_df, crs=crs, geometry=geometry)"
   ]
  },
  {
   "cell_type": "code",
   "execution_count": 18,
   "metadata": {},
   "outputs": [
    {
     "name": "stdout",
     "output_type": "stream",
     "text": [
      "<class 'pandas.core.frame.DataFrame'>\n",
      "DatetimeIndex: 1340 entries, 1900-05-11 17:23:00 to 2011-09-23 10:41:00\n",
      "Data columns (total 11 columns):\n",
      "Present-day country and link to Wikipedia article    1340 non-null object\n",
      "Lat                                                  1340 non-null object\n",
      "Long                                                 1340 non-null object\n",
      "Depth (km)                                           1250 non-null object\n",
      "Magnitude                                            1 non-null object\n",
      "Secondary Effects                                    373 non-null object\n",
      "PDE Shaking Deaths                                   0 non-null object\n",
      "PDE Total Deaths                                     0 non-null object\n",
      "Utsu Total Deaths                                    0 non-null object\n",
      "EM-DAT Total Deaths                                  1 non-null object\n",
      "geometry                                             1340 non-null object\n",
      "dtypes: object(11)\n",
      "memory usage: 125.6+ KB\n"
     ]
    }
   ],
   "source": [
    "earthquake_df.info()"
   ]
  },
  {
   "cell_type": "code",
   "execution_count": 19,
   "metadata": {},
   "outputs": [
    {
     "data": {
      "text/plain": [
       "<matplotlib.axes._subplots.AxesSubplot at 0x1197d8630>"
      ]
     },
     "execution_count": 19,
     "metadata": {},
     "output_type": "execute_result"
    },
    {
     "data": {
      "image/png": "[encoded data removed]",
      "text/plain": [
       "<matplotlib.figure.Figure at 0x11963bf28>"
      ]
     },
     "metadata": {},
     "output_type": "display_data"
    }
   ],
   "source": [
    "# Basic plot\n",
    "gdf.plot()"
   ]
  },
  {
   "cell_type": "code",
   "execution_count": null,
   "metadata": {},
   "outputs": [],
   "source": []
  }
 ],
 "metadata": {
  "kernelspec": {
   "display_name": "Python 3",
   "language": "python",
   "name": "python3"
  },
  "language_info": {
   "codemirror_mode": {
    "name": "ipython",
    "version": 3
   },
   "file_extension": ".py",
   "mimetype": "text/x-python",
   "name": "python",
   "nbconvert_exporter": "python",
   "pygments_lexer": "ipython3",
   "version": "3.6.3"
  }
 },
 "nbformat": 4,
 "nbformat_minor": 2
}
