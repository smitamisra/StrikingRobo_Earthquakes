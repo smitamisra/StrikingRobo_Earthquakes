{
 "cells": [
  {
   "cell_type": "code",
   "execution_count": 1,
   "metadata": {},
   "outputs": [],
   "source": [
    "from bs4 import BeautifulSoup as BS\n",
    "import urllib as url\n",
    "import pandas as pd\n",
    "import numpy as np  \n",
    "import re\n",
    "from datetime import datetime\n"
   ]
  },
  {
   "cell_type": "code",
   "execution_count": 2,
   "metadata": {},
   "outputs": [],
   "source": [
    "request = url.request.Request(\"https://en.wikipedia.org/wiki/List_of_deadly_earthquakes_since_1900\")\n",
    "result = url.request.urlopen(request)\n",
    "resulttext = result.read()"
   ]
  },
  {
   "cell_type": "code",
   "execution_count": 3,
   "metadata": {},
   "outputs": [],
   "source": [
    "soup = BS(resulttext, 'html.parser')\n"
   ]
  },
  {
   "cell_type": "code",
   "execution_count": 4,
   "metadata": {},
   "outputs": [],
   "source": [
    "# the html has a number of tables and we want to  have a table that we are looking for , so that we explictly \n",
    "#pass the characterstics of the tables  through class_ as an argument . We find the characterstics from the html \n",
    "\n",
    "earthquake_table_list = soup.find_all('table', class_=['sortable', 'wikitable', 'jquery-tablesorter'])\n",
    "\n",
    "# we will assert if we have got the table that we want for , we wnat only one table\n",
    "\n",
    "assert len(earthquake_table_list) == 1\n",
    "\n",
    "#  since we have the list , we  want to convert the list in to table (have to check this again)\n",
    "\n",
    "earthquake_table = earthquake_table_list[0]"
   ]
  },
  {
   "cell_type": "code",
   "execution_count": 5,
   "metadata": {},
   "outputs": [],
   "source": [
    "# once we have the table, we want to extract the table header represented as 'th' by using the find_all, find_all \n",
    "\n",
    "table_head = earthquake_table.find_all('th')\n",
    "\n",
    "# here we are assigning the table for  header by looping through table head . \n",
    "#The result of the .text() method is a string containing the combined text of all matched elements.\n",
    "\n",
    "columns = [th.text for th in table_head]"
   ]
  },
  {
   "cell_type": "code",
   "execution_count": 6,
   "metadata": {},
   "outputs": [
    {
     "name": "stdout",
     "output_type": "stream",
     "text": [
      "['Origin (UTC)', 'Present-day country and link to Wikipedia article', 'Lat', 'Long', 'Depth (km)', 'Magnitude', 'Secondary Effects', 'PDE Shaking Deaths', 'PDE Total Deaths', 'Utsu Total Deaths', 'EM-DAT Total Deaths', 'Other Source Deaths']\n"
     ]
    }
   ],
   "source": [
    "print(columns)"
   ]
  },
  {
   "cell_type": "code",
   "execution_count": 7,
   "metadata": {},
   "outputs": [],
   "source": [
    "# find_all the rows of the table and skip the first column as the table header is one child it self.\n",
    "\n",
    "table_rows = earthquake_table.find_all('tr')[1:]\n",
    "\n",
    "#do a loop , create an empty set for  and store it as df_rows\n",
    "\n",
    "df_rows = list()\n",
    "for row in table_rows:\n",
    "    row_data= [data.text for data in row.find_all('td')]\n",
    "    \n",
    "    df_rows.append(row_data)"
   ]
  },
  {
   "cell_type": "code",
   "execution_count": 8,
   "metadata": {},
   "outputs": [
    {
     "name": "stdout",
     "output_type": "stream",
     "text": [
      "['1900-05-11 17:23', 'Japan', '38.700', '141.100', '5', '7.0 MJMA', '', '', '', '', '', '']\n",
      "['1900-07-12 06:25', 'Turkey', '40.300', '43.100', '', '5.9 Muk', '', '', '', '140', '', '']\n",
      "['1900-10-29 09:11', 'Venezuela', '11.000', '-66.000', '0', '7.7 Mw', '', '', '', '', '', '']\n",
      "['1901-02-15 00:00', 'China', '26.000', '100.100', '0', '6.5 Ms', '', '', '', '', '', '']\n",
      "['1901-03-31 07:11', 'Bulgaria', '43.400', '28.700', '', '6.4 Muk', '', '', '', '4', '', '']\n"
     ]
    }
   ],
   "source": [
    "for row in df_rows[:5]:\n",
    "    print(row)"
   ]
  },
  {
   "cell_type": "code",
   "execution_count": 9,
   "metadata": {},
   "outputs": [],
   "source": [
    "#   the next step is creating a data frame , where we combine the two tables  row and column tables.# the data and the header \n",
    "earthquake_df = pd.DataFrame(data=df_rows, columns=columns)\n",
    "#earthquake_df.loc[earthquake_df['Present-day country and link to Wikipedia article']=='Iran']\n",
    "\n"
   ]
  },
  {
   "cell_type": "code",
   "execution_count": 10,
   "metadata": {},
   "outputs": [],
   "source": [
    "#earthquake_df.replace(r'^\\s*$', np.nan, inplace = True)"
   ]
  },
  {
   "cell_type": "code",
   "execution_count": 11,
   "metadata": {},
   "outputs": [],
   "source": [
    "earthquake_df=earthquake_df.replace('', np.NaN)"
   ]
  },
  {
   "cell_type": "code",
   "execution_count": 12,
   "metadata": {},
   "outputs": [
    {
     "name": "stdout",
     "output_type": "stream",
     "text": [
      "<class 'pandas.core.frame.DataFrame'>\n",
      "RangeIndex: 1340 entries, 0 to 1339\n",
      "Data columns (total 12 columns):\n",
      "Origin (UTC)                                         1340 non-null object\n",
      "Present-day country and link to Wikipedia article    1340 non-null object\n",
      "Lat                                                  1326 non-null object\n",
      "Long                                                 1326 non-null object\n",
      "Depth (km)                                           1250 non-null object\n",
      "Magnitude                                            1339 non-null object\n",
      "Secondary Effects                                    373 non-null object\n",
      "PDE Shaking Deaths                                   739 non-null object\n",
      "PDE Total Deaths                                     750 non-null object\n",
      "Utsu Total Deaths                                    1027 non-null object\n",
      "EM-DAT Total Deaths                                  560 non-null object\n",
      "Other Source Deaths                                  37 non-null object\n",
      "dtypes: object(12)\n",
      "memory usage: 125.7+ KB\n"
     ]
    }
   ],
   "source": [
    "earthquake_df.info()"
   ]
  },
  {
   "cell_type": "code",
   "execution_count": 13,
   "metadata": {},
   "outputs": [],
   "source": [
    "# renaming a columns, is  there any other mechanism to rename a target column alone\n",
    "earthquake_df.columns=[\"Origin(UTC)\",\"country\",\"Lat\",\"Long\", \"Depth(km)\",\"Magnitude\",\"Secondary Effects\",\"PDE Shaking Deaths\",\n",
    "                       \"PDE Total Deaths\",\"Utsu Total Deaths\",\"EM-DAT Total Deaths\",\"Other Source Deaths\"]"
   ]
  },
  {
   "cell_type": "code",
   "execution_count": 14,
   "metadata": {},
   "outputs": [
    {
     "name": "stdout",
     "output_type": "stream",
     "text": [
      "<class 'pandas.core.frame.DataFrame'>\n",
      "RangeIndex: 1340 entries, 0 to 1339\n",
      "Data columns (total 12 columns):\n",
      "Origin(UTC)            1340 non-null object\n",
      "country                1340 non-null object\n",
      "Lat                    1326 non-null object\n",
      "Long                   1326 non-null object\n",
      "Depth(km)              1250 non-null object\n",
      "Magnitude              1339 non-null object\n",
      "Secondary Effects      373 non-null object\n",
      "PDE Shaking Deaths     739 non-null object\n",
      "PDE Total Deaths       750 non-null object\n",
      "Utsu Total Deaths      1027 non-null object\n",
      "EM-DAT Total Deaths    560 non-null object\n",
      "Other Source Deaths    37 non-null object\n",
      "dtypes: object(12)\n",
      "memory usage: 125.7+ KB\n"
     ]
    }
   ],
   "source": [
    "earthquake_df.info()"
   ]
  },
  {
   "cell_type": "code",
   "execution_count": 15,
   "metadata": {},
   "outputs": [],
   "source": [
    "# fixing issues with country columns  to have the unique name for each country.\n",
    "# we need to make a decesion on the SaudiArabia/Egybt  observation\n",
    "\n",
    "test=\"\\s\\(.*\"\n",
    "earthquake_df['country']= earthquake_df['country'].str.replace(test, \"\")\n",
    "test2= \"\\,.*\"\n",
    "earthquake_df['country']=earthquake_df['country'].str.replace(test2, \"\")\n",
    "test3=\"United States Minor.*\"\n",
    "earthquake_df['country']=earthquake_df['country'].str.replace(test3,\"United States\")\n",
    "test4=\"US T.*\"\n",
    "earthquake_df['country']=earthquake_df['country'].str.replace(test4,\"United States\")\n",
    "test5=\"\\(.*\"\n",
    "earthquake_df['country']=earthquake_df['country'].str.replace(test5,\"Venezuela\")"
   ]
  },
  {
   "cell_type": "code",
   "execution_count": 16,
   "metadata": {},
   "outputs": [
    {
     "data": {
      "text/plain": [
       "China                                  166\n",
       "Indonesia                               96\n",
       "Turkey                                  95\n",
       "Iran                                    92\n",
       "Japan                                   82\n",
       "Peru                                    54\n",
       "Taiwan                                  48\n",
       "Mexico                                  46\n",
       "Greece                                  44\n",
       "Chile                                   44\n",
       "Philippines                             39\n",
       "United States                           37\n",
       "Italy                                   37\n",
       "Afghanistan                             30\n",
       "Pakistan                                26\n",
       "India                                   25\n",
       "Colombia                                24\n",
       "Algeria                                 21\n",
       "Ecuador                                 19\n",
       "Papua New Guinea                        17\n",
       "Guatemala                               15\n",
       "South Africa                            14\n",
       "Russian Federation                      13\n",
       "Venezuela                               12\n",
       "Burma                                   11\n",
       "Argentina                               11\n",
       "Costa Rica                              10\n",
       "Georgia                                  9\n",
       "Tajikistan                               8\n",
       "New Zealand                              8\n",
       "                                      ... \n",
       "Tajik Soviet Socialist Republic          1\n",
       "Martinique                               1\n",
       "Iraq                                     1\n",
       "Uganda                                   1\n",
       "Judea and Samaria                        1\n",
       "Yugoslavia                               1\n",
       "Kingdom of Yugoslavia                    1\n",
       "Tunisia                                  1\n",
       "Samoa                                    1\n",
       "Mongolia                                 1\n",
       "Montenegro                               1\n",
       "Malaysia                                 1\n",
       "Djibouti                                 1\n",
       "Burundi                                  1\n",
       "Saint Pierre and Miquelon                1\n",
       "Spain                                    1\n",
       "Puerto Rico                              1\n",
       "Mandatory Palestine and Transjordan      1\n",
       "Guadeloupe                               1\n",
       "Saudi Arabia/Egypt                       1\n",
       "Sudan                                    1\n",
       "Vietnam                                  1\n",
       "Guinea                                   1\n",
       "Rwanda                                   1\n",
       "Hungary                                  1\n",
       "Mozambique                               1\n",
       "Macedonia                                1\n",
       "Ghana                                    1\n",
       "Czech Republic                           1\n",
       "England                                  1\n",
       "Name: country, Length: 106, dtype: int64"
      ]
     },
     "execution_count": 16,
     "metadata": {},
     "output_type": "execute_result"
    }
   ],
   "source": [
    "earthquake_df['country'].value_counts()\n",
    "# here we are observing  that a country name followed by ',' [Iran, 2005 Qeshm earthquake ]                              1\n",
    "#and  country names with parenthesis . "
   ]
  },
  {
   "cell_type": "code",
   "execution_count": 17,
   "metadata": {},
   "outputs": [],
   "source": [
    "#splitted_country=earthquake_df['country'].str.split('(')\n",
    "#splitted_country\n",
    "#type(splitted_country)\n",
    "#earthquake_df['country']=splitted_country\n",
    "#earthquake_df"
   ]
  },
  {
   "cell_type": "code",
   "execution_count": 18,
   "metadata": {},
   "outputs": [],
   "source": [
    "#for date_str in earthquake_df[\"Origin(UTC)]\":\n",
    "   # Origin(UTC) = datetime.strptime(date_str,'%m/%d/%Y')\n",
    "   # print(Origin(UTC))"
   ]
  },
  {
   "cell_type": "code",
   "execution_count": 19,
   "metadata": {},
   "outputs": [],
   "source": [
    "#Data cleaning tasks include:\n",
    "\n",
    "#Replace empty strings with NaN\n",
    "#Remove the footnotes from the 'Other Source Deaths' column\n",
    "#Convert Magnitude to a numeric\n",
    "#Create a new column ('deaths') that evaluates the four total-death columns ('PDE Total Deaths', 'Utsu Total Deaths', 'EM-DAT Total Deaths', and 'Other Source Deaths') and populates the new column with the highest value.\n",
    "#Explore the data in terms of when and where earthquakes occurred and how severe they were (magnitude, deaths, secondary effects)."
   ]
  },
  {
   "cell_type": "code",
   "execution_count": 20,
   "metadata": {},
   "outputs": [
    {
     "data": {
      "text/plain": [
       "1                                      3\n",
       "79                                     1\n",
       "295                                    1\n",
       "41                                     1\n",
       "181                                    1\n",
       "2489[10]                               1\n",
       "380                                    1\n",
       "15894[20]                              1\n",
       "1500[6]                                1\n",
       "2041                                   1\n",
       "231000*[13] 283000*[14] 227898*[15]    1\n",
       "60[16]                                 1\n",
       "45000[9]                               1\n",
       "68                                     1\n",
       "521[19]                                1\n",
       "189                                    1\n",
       "601 (as of October 30, 2011)           1\n",
       "215                                    1\n",
       "34                                     1\n",
       "33[8]                                  1\n",
       "164[6]                                 1\n",
       "46                                     1\n",
       "8000+                                  1\n",
       "120                                    1\n",
       "2,698                                  1\n",
       "1404                                   1\n",
       "26271[11] 26000[12]                    1\n",
       "1,115                                  1\n",
       "200                                    1\n",
       "222,517[17]                            1\n",
       "111+                                   1\n",
       "105000                                 1\n",
       "42                                     1\n",
       "150+                                   1\n",
       "3500                                   1\n",
       "Name: Other Source Deaths, dtype: int64"
      ]
     },
     "execution_count": 20,
     "metadata": {},
     "output_type": "execute_result"
    }
   ],
   "source": [
    "earthquake_df['Other Source Deaths'].value_counts()"
   ]
  },
  {
   "cell_type": "code",
   "execution_count": 21,
   "metadata": {},
   "outputs": [
    {
     "data": {
      "text/html": [
       "<div>\n",
       "<style scoped>\n",
       "    .dataframe tbody tr th:only-of-type {\n",
       "        vertical-align: middle;\n",
       "    }\n",
       "\n",
       "    .dataframe tbody tr th {\n",
       "        vertical-align: top;\n",
       "    }\n",
       "\n",
       "    .dataframe thead th {\n",
       "        text-align: right;\n",
       "    }\n",
       "</style>\n",
       "<table border=\"1\" class=\"dataframe\">\n",
       "  <thead>\n",
       "    <tr style=\"text-align: right;\">\n",
       "      <th></th>\n",
       "      <th>Origin(UTC)</th>\n",
       "      <th>country</th>\n",
       "      <th>Lat</th>\n",
       "      <th>Long</th>\n",
       "      <th>Depth(km)</th>\n",
       "      <th>Magnitude</th>\n",
       "      <th>Secondary Effects</th>\n",
       "      <th>PDE Shaking Deaths</th>\n",
       "      <th>PDE Total Deaths</th>\n",
       "      <th>Utsu Total Deaths</th>\n",
       "      <th>EM-DAT Total Deaths</th>\n",
       "      <th>Other Source Deaths</th>\n",
       "    </tr>\n",
       "  </thead>\n",
       "  <tbody>\n",
       "    <tr>\n",
       "      <th>1206</th>\n",
       "      <td>2003-12-26 01:56</td>\n",
       "      <td>Iran</td>\n",
       "      <td>28.950</td>\n",
       "      <td>58.268</td>\n",
       "      <td>6</td>\n",
       "      <td>6.6 Mw</td>\n",
       "      <td>L</td>\n",
       "      <td>31000</td>\n",
       "      <td>31000</td>\n",
       "      <td>NaN</td>\n",
       "      <td>26796</td>\n",
       "      <td>26271[11] 26000[12]</td>\n",
       "    </tr>\n",
       "  </tbody>\n",
       "</table>\n",
       "</div>"
      ],
      "text/plain": [
       "           Origin(UTC) country     Lat    Long Depth(km) Magnitude  \\\n",
       "1206  2003-12-26 01:56    Iran  28.950  58.268         6    6.6 Mw   \n",
       "\n",
       "     Secondary Effects PDE Shaking Deaths PDE Total Deaths Utsu Total Deaths  \\\n",
       "1206                 L              31000            31000               NaN   \n",
       "\n",
       "     EM-DAT Total Deaths  Other Source Deaths  \n",
       "1206               26796  26271[11] 26000[12]  "
      ]
     },
     "execution_count": 21,
     "metadata": {},
     "output_type": "execute_result"
    }
   ],
   "source": [
    "#earthquake_df['Other Source Deaths']\n",
    "earthquake_df[earthquake_df['Other Source Deaths'].str.contains('26000', na=False)]"
   ]
  },
  {
   "cell_type": "code",
   "execution_count": 22,
   "metadata": {},
   "outputs": [],
   "source": [
    "# removing the footnotes and commas between numbers in [Other Source Deaths]\n",
    "test6=\"\\[\\d+]|\\+|\\s\\(.*|\\*\"\n",
    "earthquake_df['Other Source Deaths']=earthquake_df['Other Source Deaths'].str.replace(test6,\"\")\n",
    "test7=\"\\,\"\n",
    "earthquake_df['Other Source Deaths']=earthquake_df['Other Source Deaths'].str.replace(test7,\"\")"
   ]
  },
  {
   "cell_type": "code",
   "execution_count": 23,
   "metadata": {},
   "outputs": [
    {
     "data": {
      "text/plain": [
       "1                       3\n",
       "79                      1\n",
       "164                     1\n",
       "215                     1\n",
       "41                      1\n",
       "181                     1\n",
       "1500                    1\n",
       "380                     1\n",
       "150                     1\n",
       "2041                    1\n",
       "2489                    1\n",
       "68                      1\n",
       "231000 283000 227898    1\n",
       "2698                    1\n",
       "189                     1\n",
       "60                      1\n",
       "222517                  1\n",
       "33                      1\n",
       "45000                   1\n",
       "295                     1\n",
       "601                     1\n",
       "34                      1\n",
       "1115                    1\n",
       "46                      1\n",
       "120                     1\n",
       "1404                    1\n",
       "111                     1\n",
       "8000                    1\n",
       "26271 26000             1\n",
       "521                     1\n",
       "200                     1\n",
       "15894                   1\n",
       "105000                  1\n",
       "42                      1\n",
       "3500                    1\n",
       "Name: Other Source Deaths, dtype: int64"
      ]
     },
     "execution_count": 23,
     "metadata": {},
     "output_type": "execute_result"
    }
   ],
   "source": [
    "earthquake_df['Other Source Deaths'].value_counts()"
   ]
  },
  {
   "cell_type": "code",
   "execution_count": 24,
   "metadata": {},
   "outputs": [
    {
     "name": "stdout",
     "output_type": "stream",
     "text": [
      "transformed: ['3500']\n",
      "3500.0\n",
      "transformed: ['8000']\n",
      "8000.0\n",
      "transformed: ['46']\n",
      "46.0\n",
      "transformed: ['164']\n",
      "164.0\n",
      "transformed: ['1500']\n",
      "1500.0\n",
      "transformed: ['105000']\n",
      "105000.0\n",
      "transformed: ['1404']\n",
      "1404.0\n",
      "transformed: ['1']\n",
      "1.0\n",
      "transformed: ['120']\n",
      "120.0\n",
      "transformed: ['200']\n",
      "200.0\n",
      "transformed: ['380']\n",
      "380.0\n",
      "transformed: ['2041']\n",
      "2041.0\n",
      "transformed: ['33']\n",
      "33.0\n",
      "transformed: ['45000']\n",
      "45000.0\n",
      "transformed: ['2489']\n",
      "2489.0\n",
      "transformed: ['26271', '26000']\n",
      "26135.5\n",
      "transformed: ['68']\n",
      "68.0\n",
      "transformed: ['231000', '283000', '227898']\n",
      "247299.33333333334\n",
      "transformed: ['41']\n",
      "41.0\n",
      "transformed: ['60']\n",
      "60.0\n",
      "transformed: ['215']\n",
      "215.0\n",
      "transformed: ['34']\n",
      "34.0\n",
      "transformed: ['295']\n",
      "295.0\n",
      "transformed: ['1']\n",
      "1.0\n",
      "transformed: ['79']\n",
      "79.0\n",
      "transformed: ['189']\n",
      "189.0\n",
      "transformed: ['1115']\n",
      "1115.0\n",
      "transformed: ['222517']\n",
      "222517.0\n",
      "transformed: ['521']\n",
      "521.0\n",
      "transformed: ['42']\n",
      "42.0\n",
      "transformed: ['1']\n",
      "1.0\n",
      "transformed: ['2698']\n",
      "2698.0\n",
      "transformed: ['181']\n",
      "181.0\n",
      "transformed: ['15894']\n",
      "15894.0\n",
      "transformed: ['150']\n",
      "150.0\n",
      "transformed: ['111']\n",
      "111.0\n",
      "transformed: ['601']\n",
      "601.0\n"
     ]
    }
   ],
   "source": [
    "means = []\n",
    "for row in earthquake_df[\"Other Source Deaths\"]:\n",
    "    # print(\"\\noriginal: {}\".format(type(row)))\n",
    "    #if isinstance(row, float):\n",
    "    #    int_list = [str(row)]\n",
    "    if isinstance(row, str):\n",
    "        #print(len(row))\n",
    "        int_list = row.strip().split(\" \")\n",
    "        print(\"transformed: {}\".format(int_list))\n",
    "        #row.split(\" \")\n",
    "        #make_int = list(map(int, int_list))\n",
    "        #print(\"new type:\", make_int)\n",
    "        total = sum(list(map(int, int_list)))\n",
    "        number = len(int_list)\n",
    "        mean = total/number\n",
    "        means.append(mean)\n",
    "        print(mean)\n",
    "    else:\n",
    "        means.append(row)\n",
    "        \n",
    "earthquake_df[\"Other Source Deaths\"] = means\n",
    "    \n",
    "    #int_list = row.str.split(\" \")\n",
    "    #print(int_list)"
   ]
  },
  {
   "cell_type": "code",
   "execution_count": 25,
   "metadata": {},
   "outputs": [],
   "source": [
    "d_types = set([type(val) for val in earthquake_df['Magnitude']])"
   ]
  },
  {
   "cell_type": "code",
   "execution_count": 26,
   "metadata": {},
   "outputs": [
    {
     "data": {
      "text/plain": [
       "{float, str}"
      ]
     },
     "execution_count": 26,
     "metadata": {},
     "output_type": "execute_result"
    }
   ],
   "source": [
    "d_types"
   ]
  },
  {
   "cell_type": "code",
   "execution_count": 27,
   "metadata": {},
   "outputs": [
    {
     "data": {
      "text/plain": [
       "dtype('float64')"
      ]
     },
     "execution_count": 27,
     "metadata": {},
     "output_type": "execute_result"
    }
   ],
   "source": [
    "# Converting magnitude to numeric \n",
    "\n",
    "earthquake_df['magnitude']=earthquake_df['Magnitude'].str.split(' ').str.get(0)\n",
    "earthquake_df['magnitude']\n",
    "\n",
    "d_types= set([type(val) for val in earthquake_df['magnitude']])\n",
    "d_types\n",
    "\n",
    "earthquake_df['magnitude'].dtype\n",
    "\n",
    "earthquake_df.magnitude.values\n",
    "\n",
    "earthquake_df.magnitude=earthquake_df.magnitude.astype(float).fillna(0.0)\n",
    "earthquake_df.magnitude.values\n",
    "earthquake_df['magnitude'].dtype"
   ]
  },
  {
   "cell_type": "code",
   "execution_count": 28,
   "metadata": {},
   "outputs": [
    {
     "data": {
      "text/plain": [
       "array(['MJMA', 'Muk', 'Mw', 'Ms', 'ML', 'mb', nan, 'Lg', 'Md', 'Mb'], dtype=object)"
      ]
     },
     "execution_count": 28,
     "metadata": {},
     "output_type": "execute_result"
    }
   ],
   "source": [
    "y=earthquake_df['Magnitude'].str.split(' ').str.get(1)\n",
    "y.unique()"
   ]
  },
  {
   "cell_type": "code",
   "execution_count": 29,
   "metadata": {},
   "outputs": [],
   "source": [
    "#Based on what literature has provided to us on the possible conversion between different units,\n",
    "#I am  planning to convert units in to a standard or common units. I have found a literature that has \n",
    "# a subtle information on the difference between each  units, I think it is beyond my capacity to handle\n",
    "#https://www.researchgate.net/profile/Emmanuel_Scordilis/publication/292771405_Globally_valid_relations_converting_Ms_mb_and_MJMA_to_Mw/\n",
    "#links/56b8352e08ae5ad3605ddba1/Globally-valid-relations-converting-Ms-mb-and-MJMA-to-Mw.pdf\n",
    "\n",
    "\n",
    "#def (x):\n",
    "  #  y=earthquake_df['Magnitude'].str.split('')\n",
    "    \n",
    "  #  if y[1]=='MJMA':\n",
    "   #     return float(y[0])\n",
    "    #elif y[1]=='Muk':\n",
    "     #   return float(y[0])\n",
    "   # elif y[1]=='Mw':\n",
    "   #     return float(y[0])\n",
    "   # elif y[1]=='Ms':\n",
    "    #    return float(y[0])\n",
    "   # elif y[1]=='ML':\n",
    "     #   return float(y[0])\n",
    "  #  elif y[1]=='mb':\n",
    "     #   return float(y[0])\n",
    "   # elif y[1]=='Lg':\n",
    "     #   return float(y[0])\n",
    "   # elif y[1]=='Md':\n",
    "    #    return float(y[0])\n",
    "   # elif y[1]=='MB':\n",
    "   #     return float(y[0])\n",
    "   # else:\n",
    "   #     return NaN\n",
    "#earthquake_df['']\n",
    "\n",
    "#earthquake_df['Magnitude_c']=earthquake_df.Magnitude.apply(lambda x: y(x))"
   ]
  },
  {
   "cell_type": "code",
   "execution_count": 30,
   "metadata": {},
   "outputs": [],
   "source": [
    "#Create a new column ('deaths')  FROM TOTAL DEATH COLUMNS AND POPULATES WITH THE HIGHEST VALUE\n"
   ]
  },
  {
   "cell_type": "code",
   "execution_count": 31,
   "metadata": {},
   "outputs": [
    {
     "data": {
      "text/plain": [
       "0            NaN\n",
       "1            NaN\n",
       "2            NaN\n",
       "3            NaN\n",
       "4            NaN\n",
       "5            NaN\n",
       "6            NaN\n",
       "7            NaN\n",
       "8            NaN\n",
       "9            NaN\n",
       "10           NaN\n",
       "11           NaN\n",
       "12           NaN\n",
       "13           NaN\n",
       "14           NaN\n",
       "15           NaN\n",
       "16        3500.0\n",
       "17           NaN\n",
       "18           NaN\n",
       "19           NaN\n",
       "20           NaN\n",
       "21           NaN\n",
       "22           NaN\n",
       "23           NaN\n",
       "24           NaN\n",
       "25           NaN\n",
       "26           NaN\n",
       "27           NaN\n",
       "28           NaN\n",
       "29           NaN\n",
       "          ...   \n",
       "1310         NaN\n",
       "1311         NaN\n",
       "1312         NaN\n",
       "1313         NaN\n",
       "1314         NaN\n",
       "1315         NaN\n",
       "1316         NaN\n",
       "1317        41.0\n",
       "1318        60.0\n",
       "1319         NaN\n",
       "1320       215.0\n",
       "1321        34.0\n",
       "1322       295.0\n",
       "1323         NaN\n",
       "1324         1.0\n",
       "1325        79.0\n",
       "1326       189.0\n",
       "1327      1115.0\n",
       "1328    222517.0\n",
       "1329       521.0\n",
       "1330        42.0\n",
       "1331         1.0\n",
       "1332      2698.0\n",
       "1333       181.0\n",
       "1334         NaN\n",
       "1335     15894.0\n",
       "1336       150.0\n",
       "1337         NaN\n",
       "1338       111.0\n",
       "1339       601.0\n",
       "Name: Other Source Deaths, Length: 1340, dtype: float64"
      ]
     },
     "execution_count": 31,
     "metadata": {},
     "output_type": "execute_result"
    }
   ],
   "source": [
    "#Explore the data in terms of when and where earthquakes occurred and how severe they were (magnitude, deaths, secondary effects).\n",
    "earthquake_df['Other Source Deaths']"
   ]
  },
  {
   "cell_type": "code",
   "execution_count": 32,
   "metadata": {},
   "outputs": [
    {
     "data": {
      "text/plain": [
       "26135.5    1\n",
       "8000.0     1\n",
       "Name: Other Source Deaths, dtype: int64"
      ]
     },
     "execution_count": 32,
     "metadata": {},
     "output_type": "execute_result"
    }
   ],
   "source": [
    "x=earthquake_df.loc[earthquake_df['country']=='Iran']\n",
    "x['Other Source Deaths'].value_counts()"
   ]
  },
  {
   "cell_type": "code",
   "execution_count": 33,
   "metadata": {},
   "outputs": [],
   "source": [
    "#To select rows whose column value equals a scalar, some_value, use ==:\n",
    "\n",
    "#df.loc[df['column_name'] == some_value]\n",
    "#To select rows whose column value is in an iterable, some_values, use isin:\n",
    "\n",
    "#df.loc[df['column_name'].isin(some_values)]\n",
    "#Combine multiple conditions with &:\n",
    "\n",
    "#df.loc[(df['column_name'] == some_value) & df['other_column'].isin(some_values)]\n",
    "#To select rows whose column value does not equal some_value, use !=:\n",
    "\n",
    "#df.loc[df['column_name'] != some_value]\n",
    "#isin returns a boolean Series, so to select rows whose value is not in some_values, negate the boolean Series using ~:\n",
    "\n",
    "#df.loc[~df['column_name'].isin(some_values)]"
   ]
  },
  {
   "cell_type": "code",
   "execution_count": 34,
   "metadata": {},
   "outputs": [
    {
     "name": "stdout",
     "output_type": "stream",
     "text": [
      "<class 'pandas.core.frame.DataFrame'>\n",
      "RangeIndex: 1340 entries, 0 to 1339\n",
      "Data columns (total 13 columns):\n",
      "Origin(UTC)            1340 non-null object\n",
      "country                1340 non-null object\n",
      "Lat                    1326 non-null object\n",
      "Long                   1326 non-null object\n",
      "Depth(km)              1250 non-null object\n",
      "Magnitude              1339 non-null object\n",
      "Secondary Effects      373 non-null object\n",
      "PDE Shaking Deaths     739 non-null object\n",
      "PDE Total Deaths       750 non-null object\n",
      "Utsu Total Deaths      1027 non-null object\n",
      "EM-DAT Total Deaths    560 non-null object\n",
      "Other Source Deaths    37 non-null float64\n",
      "magnitude              1340 non-null float64\n",
      "dtypes: float64(2), object(11)\n",
      "memory usage: 136.2+ KB\n"
     ]
    }
   ],
   "source": [
    "earthquake_df.info()"
   ]
  },
  {
   "cell_type": "code",
   "execution_count": 58,
   "metadata": {},
   "outputs": [
    {
     "ename": "TypeError",
     "evalue": "cannot convert the series to <class 'float'>",
     "output_type": "error",
     "traceback": [
      "\u001b[1;31m---------------------------------------------------------------------------\u001b[0m",
      "\u001b[1;31mTypeError\u001b[0m                                 Traceback (most recent call last)",
      "\u001b[1;32m<ipython-input-58-6bd46bcfa06f>\u001b[0m in \u001b[0;36m<module>\u001b[1;34m()\u001b[0m\n\u001b[1;32m----> 1\u001b[1;33m \u001b[0mfloat\u001b[0m\u001b[1;33m(\u001b[0m\u001b[0mearthquake_df\u001b[0m\u001b[1;33m[\u001b[0m\u001b[1;34m'PDE Total Deaths'\u001b[0m\u001b[1;33m]\u001b[0m\u001b[1;33m)\u001b[0m\u001b[1;33m\u001b[0m\u001b[0m\n\u001b[0m\u001b[0;32m      2\u001b[0m   \u001b[1;31m#  ', 'Utsu Total Deaths','EM-DAT Total Deaths', 'Other Source Deaths'])\u001b[0m\u001b[1;33m\u001b[0m\u001b[1;33m\u001b[0m\u001b[0m\n",
      "\u001b[1;32m~\\Anaconda3\\envs\\data_question3_striking_robots\\lib\\site-packages\\pandas\\core\\series.py\u001b[0m in \u001b[0;36mwrapper\u001b[1;34m(self)\u001b[0m\n\u001b[0;32m    110\u001b[0m             \u001b[1;32mreturn\u001b[0m \u001b[0mconverter\u001b[0m\u001b[1;33m(\u001b[0m\u001b[0mself\u001b[0m\u001b[1;33m.\u001b[0m\u001b[0miloc\u001b[0m\u001b[1;33m[\u001b[0m\u001b[1;36m0\u001b[0m\u001b[1;33m]\u001b[0m\u001b[1;33m)\u001b[0m\u001b[1;33m\u001b[0m\u001b[0m\n\u001b[0;32m    111\u001b[0m         raise TypeError(\"cannot convert the series to \"\n\u001b[1;32m--> 112\u001b[1;33m                         \"{0}\".format(str(converter)))\n\u001b[0m\u001b[0;32m    113\u001b[0m \u001b[1;33m\u001b[0m\u001b[0m\n\u001b[0;32m    114\u001b[0m     \u001b[1;32mreturn\u001b[0m \u001b[0mwrapper\u001b[0m\u001b[1;33m\u001b[0m\u001b[0m\n",
      "\u001b[1;31mTypeError\u001b[0m: cannot convert the series to <class 'float'>"
     ]
    }
   ],
   "source": [
    "float(earthquake_df['PDE Total Deaths'])\n",
    "  #  ', 'Utsu Total Deaths','EM-DAT Total Deaths', 'Other Source Deaths'])"
   ]
  },
  {
   "cell_type": "code",
   "execution_count": 36,
   "metadata": {},
   "outputs": [
    {
     "data": {
      "text/plain": [
       "pandas.core.series.Series"
      ]
     },
     "execution_count": 36,
     "metadata": {},
     "output_type": "execute_result"
    }
   ],
   "source": [
    "type(earthquake_df['PDE Total Deaths'])"
   ]
  },
  {
   "cell_type": "code",
   "execution_count": 37,
   "metadata": {},
   "outputs": [
    {
     "data": {
      "text/plain": [
       "{float, str}"
      ]
     },
     "execution_count": 37,
     "metadata": {},
     "output_type": "execute_result"
    }
   ],
   "source": [
    "d_types = set([type(val) for val in earthquake_df['Utsu Total Deaths']])\n",
    "d_types"
   ]
  },
  {
   "cell_type": "code",
   "execution_count": 38,
   "metadata": {},
   "outputs": [],
   "source": [
    "percapita=pd.read_csv(\"UN_GDP.csv\")"
   ]
  },
  {
   "cell_type": "code",
   "execution_count": 39,
   "metadata": {},
   "outputs": [
    {
     "data": {
      "text/html": [
       "<div>\n",
       "<style scoped>\n",
       "    .dataframe tbody tr th:only-of-type {\n",
       "        vertical-align: middle;\n",
       "    }\n",
       "\n",
       "    .dataframe tbody tr th {\n",
       "        vertical-align: top;\n",
       "    }\n",
       "\n",
       "    .dataframe thead th {\n",
       "        text-align: right;\n",
       "    }\n",
       "</style>\n",
       "<table border=\"1\" class=\"dataframe\">\n",
       "  <thead>\n",
       "    <tr style=\"text-align: right;\">\n",
       "      <th></th>\n",
       "      <th>Country or Area</th>\n",
       "      <th>Year</th>\n",
       "      <th>Item</th>\n",
       "      <th>Value</th>\n",
       "    </tr>\n",
       "  </thead>\n",
       "  <tbody>\n",
       "    <tr>\n",
       "      <th>0</th>\n",
       "      <td>Afghanistan</td>\n",
       "      <td>2015</td>\n",
       "      <td>Gross Domestic Product (GDP)</td>\n",
       "      <td>623.184798</td>\n",
       "    </tr>\n",
       "    <tr>\n",
       "      <th>1</th>\n",
       "      <td>Afghanistan</td>\n",
       "      <td>2014</td>\n",
       "      <td>Gross Domestic Product (GDP)</td>\n",
       "      <td>667.883420</td>\n",
       "    </tr>\n",
       "    <tr>\n",
       "      <th>2</th>\n",
       "      <td>Afghanistan</td>\n",
       "      <td>2013</td>\n",
       "      <td>Gross Domestic Product (GDP)</td>\n",
       "      <td>704.322178</td>\n",
       "    </tr>\n",
       "    <tr>\n",
       "      <th>3</th>\n",
       "      <td>Afghanistan</td>\n",
       "      <td>2012</td>\n",
       "      <td>Gross Domestic Product (GDP)</td>\n",
       "      <td>717.563696</td>\n",
       "    </tr>\n",
       "    <tr>\n",
       "      <th>4</th>\n",
       "      <td>Afghanistan</td>\n",
       "      <td>2011</td>\n",
       "      <td>Gross Domestic Product (GDP)</td>\n",
       "      <td>665.429433</td>\n",
       "    </tr>\n",
       "  </tbody>\n",
       "</table>\n",
       "</div>"
      ],
      "text/plain": [
       "  Country or Area  Year                          Item       Value\n",
       "0     Afghanistan  2015  Gross Domestic Product (GDP)  623.184798\n",
       "1     Afghanistan  2014  Gross Domestic Product (GDP)  667.883420\n",
       "2     Afghanistan  2013  Gross Domestic Product (GDP)  704.322178\n",
       "3     Afghanistan  2012  Gross Domestic Product (GDP)  717.563696\n",
       "4     Afghanistan  2011  Gross Domestic Product (GDP)  665.429433"
      ]
     },
     "execution_count": 39,
     "metadata": {},
     "output_type": "execute_result"
    }
   ],
   "source": [
    "percapita.head()"
   ]
  },
  {
   "cell_type": "code",
   "execution_count": 40,
   "metadata": {},
   "outputs": [],
   "source": [
    "pop=pd.read_csv(\"UN_total_population.csv\")"
   ]
  },
  {
   "cell_type": "code",
   "execution_count": 41,
   "metadata": {},
   "outputs": [
    {
     "data": {
      "text/html": [
       "<div>\n",
       "<style scoped>\n",
       "    .dataframe tbody tr th:only-of-type {\n",
       "        vertical-align: middle;\n",
       "    }\n",
       "\n",
       "    .dataframe tbody tr th {\n",
       "        vertical-align: top;\n",
       "    }\n",
       "\n",
       "    .dataframe thead th {\n",
       "        text-align: right;\n",
       "    }\n",
       "</style>\n",
       "<table border=\"1\" class=\"dataframe\">\n",
       "  <thead>\n",
       "    <tr style=\"text-align: right;\">\n",
       "      <th></th>\n",
       "      <th>Country or Area</th>\n",
       "      <th>Subgroup</th>\n",
       "      <th>Year</th>\n",
       "      <th>Source</th>\n",
       "      <th>Unit</th>\n",
       "      <th>Value</th>\n",
       "      <th>Value Footnotes</th>\n",
       "    </tr>\n",
       "  </thead>\n",
       "  <tbody>\n",
       "    <tr>\n",
       "      <th>0</th>\n",
       "      <td>Afghanistan</td>\n",
       "      <td>Total</td>\n",
       "      <td>2011.0</td>\n",
       "      <td>UN_United Nations Population Division</td>\n",
       "      <td>Thousand</td>\n",
       "      <td>32358.0</td>\n",
       "      <td>NaN</td>\n",
       "    </tr>\n",
       "    <tr>\n",
       "      <th>1</th>\n",
       "      <td>Albania</td>\n",
       "      <td>Total</td>\n",
       "      <td>2011.0</td>\n",
       "      <td>UN_United Nations Population Division</td>\n",
       "      <td>Thousand</td>\n",
       "      <td>3216.0</td>\n",
       "      <td>NaN</td>\n",
       "    </tr>\n",
       "    <tr>\n",
       "      <th>2</th>\n",
       "      <td>Algeria</td>\n",
       "      <td>Total</td>\n",
       "      <td>2011.0</td>\n",
       "      <td>UN_United Nations Population Division</td>\n",
       "      <td>Thousand</td>\n",
       "      <td>35980.0</td>\n",
       "      <td>NaN</td>\n",
       "    </tr>\n",
       "    <tr>\n",
       "      <th>3</th>\n",
       "      <td>Andorra</td>\n",
       "      <td>Total</td>\n",
       "      <td>2011.0</td>\n",
       "      <td>UN_United Nations Population Division</td>\n",
       "      <td>Thousand</td>\n",
       "      <td>86.0</td>\n",
       "      <td>NaN</td>\n",
       "    </tr>\n",
       "    <tr>\n",
       "      <th>4</th>\n",
       "      <td>Angola</td>\n",
       "      <td>Total</td>\n",
       "      <td>2011.0</td>\n",
       "      <td>UN_United Nations Population Division</td>\n",
       "      <td>Thousand</td>\n",
       "      <td>19618.0</td>\n",
       "      <td>NaN</td>\n",
       "    </tr>\n",
       "  </tbody>\n",
       "</table>\n",
       "</div>"
      ],
      "text/plain": [
       "  Country or Area Subgroup    Year                                 Source  \\\n",
       "0     Afghanistan    Total  2011.0  UN_United Nations Population Division   \n",
       "1         Albania    Total  2011.0  UN_United Nations Population Division   \n",
       "2         Algeria    Total  2011.0  UN_United Nations Population Division   \n",
       "3         Andorra    Total  2011.0  UN_United Nations Population Division   \n",
       "4          Angola    Total  2011.0  UN_United Nations Population Division   \n",
       "\n",
       "       Unit    Value  Value Footnotes  \n",
       "0  Thousand  32358.0              NaN  \n",
       "1  Thousand   3216.0              NaN  \n",
       "2  Thousand  35980.0              NaN  \n",
       "3  Thousand     86.0              NaN  \n",
       "4  Thousand  19618.0              NaN  "
      ]
     },
     "execution_count": 41,
     "metadata": {},
     "output_type": "execute_result"
    }
   ],
   "source": [
    "pop.head()"
   ]
  },
  {
   "cell_type": "code",
   "execution_count": 42,
   "metadata": {},
   "outputs": [
    {
     "data": {
      "text/plain": [
       "pandas.core.frame.DataFrame"
      ]
     },
     "execution_count": 42,
     "metadata": {},
     "output_type": "execute_result"
    }
   ],
   "source": [
    "type(pop)"
   ]
  },
  {
   "cell_type": "code",
   "execution_count": 43,
   "metadata": {},
   "outputs": [
    {
     "data": {
      "text/plain": [
       "pandas.core.indexes.range.RangeIndex"
      ]
     },
     "execution_count": 43,
     "metadata": {},
     "output_type": "execute_result"
    }
   ],
   "source": [
    "type(pop.index)"
   ]
  },
  {
   "cell_type": "code",
   "execution_count": 47,
   "metadata": {},
   "outputs": [],
   "source": [
    "float(earthquake_df['Total Deaths']=earthquake_df[['PDE Total Deaths', 'Utsu Total Deaths','EM-DAT Total Deaths', 'Other Source Deaths']].max(axis=1)"
   ]
  },
  {
   "cell_type": "code",
   "execution_count": 53,
   "metadata": {},
   "outputs": [
    {
     "data": {
      "text/plain": [
       "0        NaN\n",
       "1        NaN\n",
       "2        NaN\n",
       "3        NaN\n",
       "4        NaN\n",
       "5        NaN\n",
       "6        NaN\n",
       "7        NaN\n",
       "8        NaN\n",
       "9        NaN\n",
       "10       NaN\n",
       "11       NaN\n",
       "12       NaN\n",
       "13       NaN\n",
       "14       NaN\n",
       "15       NaN\n",
       "16    3500.0\n",
       "17       NaN\n",
       "18       NaN\n",
       "19       NaN\n",
       "Name: Total Deaths, dtype: float64"
      ]
     },
     "execution_count": 53,
     "metadata": {},
     "output_type": "execute_result"
    }
   ],
   "source": [
    "earthquake_df['Total Deaths'].head(20)"
   ]
  },
  {
   "cell_type": "code",
   "execution_count": 67,
   "metadata": {},
   "outputs": [
    {
     "ename": "AttributeError",
     "evalue": "'DataFrame' object has no attribute 'cols'",
     "output_type": "error",
     "traceback": [
      "\u001b[1;31m---------------------------------------------------------------------------\u001b[0m",
      "\u001b[1;31mAttributeError\u001b[0m                            Traceback (most recent call last)",
      "\u001b[1;32m<ipython-input-67-97e4cccf4d5d>\u001b[0m in \u001b[0;36m<module>\u001b[1;34m()\u001b[0m\n\u001b[0;32m      1\u001b[0m \u001b[0mcols\u001b[0m\u001b[1;33m=\u001b[0m\u001b[1;33m[\u001b[0m\u001b[1;34m'PDE Total Deaths'\u001b[0m\u001b[1;33m,\u001b[0m \u001b[1;34m'Utsu Total Deaths'\u001b[0m\u001b[1;33m,\u001b[0m\u001b[1;34m'EM-DAT Total Deaths'\u001b[0m\u001b[1;33m,\u001b[0m \u001b[1;34m'Other Source Deaths'\u001b[0m\u001b[1;33m,\u001b[0m \u001b[1;34m'Total Deaths'\u001b[0m\u001b[1;33m]\u001b[0m\u001b[1;33m\u001b[0m\u001b[0m\n\u001b[1;32m----> 2\u001b[1;33m \u001b[0mearthquake_df\u001b[0m\u001b[1;33m.\u001b[0m\u001b[0mcols\u001b[0m\u001b[1;33m=\u001b[0m\u001b[0mearthquake_df\u001b[0m\u001b[1;33m.\u001b[0m\u001b[0mcols\u001b[0m\u001b[1;33m.\u001b[0m\u001b[0mapply\u001b[0m\u001b[1;33m(\u001b[0m\u001b[0mpd\u001b[0m\u001b[1;33m.\u001b[0m\u001b[0mto_numeric\u001b[0m\u001b[1;33m,\u001b[0m \u001b[0merror\u001b[0m\u001b[1;33m=\u001b[0m\u001b[1;34m'coherce'\u001b[0m\u001b[1;33m)\u001b[0m\u001b[1;33m\u001b[0m\u001b[0m\n\u001b[0m\u001b[0;32m      3\u001b[0m \u001b[0mearthquake_df\u001b[0m\u001b[1;33m[\u001b[0m\u001b[1;33m[\u001b[0m\u001b[1;34m'PDE Total Deaths'\u001b[0m\u001b[1;33m,\u001b[0m \u001b[1;34m'Utsu Total Deaths'\u001b[0m\u001b[1;33m,\u001b[0m\u001b[1;34m'EM-DAT Total Deaths'\u001b[0m\u001b[1;33m,\u001b[0m \u001b[1;34m'Other Source Deaths'\u001b[0m\u001b[1;33m,\u001b[0m \u001b[1;34m'Total Deaths'\u001b[0m\u001b[1;33m]\u001b[0m\u001b[1;33m]\u001b[0m\u001b[1;33m.\u001b[0m\u001b[0mhead\u001b[0m\u001b[1;33m(\u001b[0m\u001b[1;33m)\u001b[0m\u001b[1;33m\u001b[0m\u001b[0m\n",
      "\u001b[1;32m~\\Anaconda3\\envs\\data_question3_striking_robots\\lib\\site-packages\\pandas\\core\\generic.py\u001b[0m in \u001b[0;36m__getattr__\u001b[1;34m(self, name)\u001b[0m\n\u001b[0;32m   3612\u001b[0m             \u001b[1;32mif\u001b[0m \u001b[0mname\u001b[0m \u001b[1;32min\u001b[0m \u001b[0mself\u001b[0m\u001b[1;33m.\u001b[0m\u001b[0m_info_axis\u001b[0m\u001b[1;33m:\u001b[0m\u001b[1;33m\u001b[0m\u001b[0m\n\u001b[0;32m   3613\u001b[0m                 \u001b[1;32mreturn\u001b[0m \u001b[0mself\u001b[0m\u001b[1;33m[\u001b[0m\u001b[0mname\u001b[0m\u001b[1;33m]\u001b[0m\u001b[1;33m\u001b[0m\u001b[0m\n\u001b[1;32m-> 3614\u001b[1;33m             \u001b[1;32mreturn\u001b[0m \u001b[0mobject\u001b[0m\u001b[1;33m.\u001b[0m\u001b[0m__getattribute__\u001b[0m\u001b[1;33m(\u001b[0m\u001b[0mself\u001b[0m\u001b[1;33m,\u001b[0m \u001b[0mname\u001b[0m\u001b[1;33m)\u001b[0m\u001b[1;33m\u001b[0m\u001b[0m\n\u001b[0m\u001b[0;32m   3615\u001b[0m \u001b[1;33m\u001b[0m\u001b[0m\n\u001b[0;32m   3616\u001b[0m     \u001b[1;32mdef\u001b[0m \u001b[0m__setattr__\u001b[0m\u001b[1;33m(\u001b[0m\u001b[0mself\u001b[0m\u001b[1;33m,\u001b[0m \u001b[0mname\u001b[0m\u001b[1;33m,\u001b[0m \u001b[0mvalue\u001b[0m\u001b[1;33m)\u001b[0m\u001b[1;33m:\u001b[0m\u001b[1;33m\u001b[0m\u001b[0m\n",
      "\u001b[1;31mAttributeError\u001b[0m: 'DataFrame' object has no attribute 'cols'"
     ]
    }
   ],
   "source": [
    "cols=['PDE Total Deaths', 'Utsu Total Deaths','EM-DAT Total Deaths', 'Other Source Deaths', 'Total Deaths']\n",
    "earthquake_df.cols=earthquake_df.cols.apply(pd.to_numeric, error='coherce')\n",
    "earthquake_df[['PDE Total Deaths', 'Utsu Total Deaths','EM-DAT Total Deaths', 'Other Source Deaths', 'Total Deaths']].head()"
   ]
  },
  {
   "cell_type": "code",
   "execution_count": 72,
   "metadata": {},
   "outputs": [
    {
     "name": "stdout",
     "output_type": "stream",
     "text": [
      "<class 'pandas.core.frame.DataFrame'>\n",
      "RangeIndex: 1340 entries, 0 to 1339\n",
      "Data columns (total 14 columns):\n",
      "Origin(UTC)            1340 non-null object\n",
      "country                1340 non-null object\n",
      "Lat                    1326 non-null object\n",
      "Long                   1326 non-null object\n",
      "Depth(km)              1250 non-null object\n",
      "Magnitude              1339 non-null object\n",
      "Secondary Effects      373 non-null object\n",
      "PDE Shaking Deaths     739 non-null float64\n",
      "PDE Total Deaths       750 non-null float64\n",
      "Utsu Total Deaths      1027 non-null float64\n",
      "EM-DAT Total Deaths    560 non-null object\n",
      "Other Source Deaths    37 non-null float64\n",
      "magnitude              1340 non-null float64\n",
      "Total Deaths           37 non-null float64\n",
      "dtypes: float64(6), object(8)\n",
      "memory usage: 146.6+ KB\n"
     ]
    }
   ],
   "source": [
    "# earthquake_df.apply(pd.to_numeric, errors='ignore').info()\n",
    "cols=['PDE Total Deaths', 'Utsu Total Deaths','EM-DAT Total Deaths', 'Other Source Deaths', 'Total Deaths']\n"
   ]
  },
  {
   "cell_type": "code",
   "execution_count": null,
   "metadata": {},
   "outputs": [],
   "source": []
  }
 ],
 "metadata": {
  "kernelspec": {
   "display_name": "Python 3",
   "language": "python",
   "name": "python3"
  },
  "language_info": {
   "codemirror_mode": {
    "name": "ipython",
    "version": 3
   },
   "file_extension": ".py",
   "mimetype": "text/x-python",
   "name": "python",
   "nbconvert_exporter": "python",
   "pygments_lexer": "ipython3",
   "version": "3.6.3"
  }
 },
 "nbformat": 4,
 "nbformat_minor": 2
}
