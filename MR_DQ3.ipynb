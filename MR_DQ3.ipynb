{
 "cells": [
  {
   "cell_type": "code",
   "execution_count": null,
   "metadata": {},
   "outputs": [],
   "source": [
    "from bs4 import BeautifulSoup as BS\n",
    "import urllib.request\n",
    "import pandas as pd\n",
    "import numpy as np\n",
    "import matplotlib.pyplot as plt\n",
    "% matplotlib inline\n",
    "import seaborn as sns\n",
    "\n",
    "import geopandas as gpd\n",
    "\n",
    "import datetime"
   ]
  },
  {
   "cell_type": "code",
   "execution_count": null,
   "metadata": {
    "scrolled": true
   },
   "outputs": [],
   "source": [
    "request = urllib.request.Request(\"https://en.wikipedia.org/wiki/List_of_deadly_earthquakes_since_1900\")\n",
    "result = urllib.request.urlopen(request)\n",
    "resulttext = result.read()\n",
    "soup = BS(resulttext, 'html.parser')\n",
    "type(soup)"
   ]
  },
  {
   "cell_type": "code",
   "execution_count": null,
   "metadata": {},
   "outputs": [],
   "source": [
    "table = soup.find_all('table', class_=\"sortable wikitable\")\n",
    "#table\n",
    "type(table)\n",
    "#len(table)"
   ]
  },
  {
   "cell_type": "code",
   "execution_count": null,
   "metadata": {},
   "outputs": [],
   "source": [
    "table_2 = table[0]\n",
    "type(table_2)"
   ]
  },
  {
   "cell_type": "code",
   "execution_count": null,
   "metadata": {},
   "outputs": [],
   "source": [
    "table_headers = table_2.find_all(\"th\")"
   ]
  },
  {
   "cell_type": "code",
   "execution_count": null,
   "metadata": {},
   "outputs": [],
   "source": [
    "type(table_headers)"
   ]
  },
  {
   "cell_type": "code",
   "execution_count": null,
   "metadata": {},
   "outputs": [],
   "source": [
    "columns = [th.text for th in table_headers]"
   ]
  },
  {
   "cell_type": "code",
   "execution_count": null,
   "metadata": {
    "scrolled": true
   },
   "outputs": [],
   "source": [
    "type(columns)"
   ]
  },
  {
   "cell_type": "code",
   "execution_count": null,
   "metadata": {},
   "outputs": [],
   "source": [
    "rows = []\n",
    "for tr in table_2.find_all(\"tr\")[1:]:\n",
    "    row_data = [td.text for td in tr.find_all(\"td\")]\n",
    "    rows.append(row_data)"
   ]
  },
  {
   "cell_type": "code",
   "execution_count": null,
   "metadata": {},
   "outputs": [],
   "source": [
    "rows"
   ]
  },
  {
   "cell_type": "code",
   "execution_count": null,
   "metadata": {},
   "outputs": [],
   "source": [
    "earthquakes = pd.DataFrame(rows, columns = columns)"
   ]
  },
  {
   "cell_type": "code",
   "execution_count": null,
   "metadata": {},
   "outputs": [],
   "source": [
    "earthquakes.info()"
   ]
  },
  {
   "cell_type": "code",
   "execution_count": null,
   "metadata": {},
   "outputs": [],
   "source": [
    "earthquakes = earthquakes.replace(\"\", np.nan)"
   ]
  },
  {
   "cell_type": "code",
   "execution_count": null,
   "metadata": {},
   "outputs": [],
   "source": [
    "earthquakes.info()"
   ]
  },
  {
   "cell_type": "code",
   "execution_count": null,
   "metadata": {},
   "outputs": [],
   "source": [
    "earthquakes[\"Other Source Deaths\"].value_counts()"
   ]
  },
  {
   "cell_type": "code",
   "execution_count": null,
   "metadata": {
    "scrolled": false
   },
   "outputs": [],
   "source": [
    "earthquakes[earthquakes[\"Other Source Deaths\"].str.contains(\"231000\", na = False)]"
   ]
  },
  {
   "cell_type": "code",
   "execution_count": null,
   "metadata": {
    "scrolled": true
   },
   "outputs": [],
   "source": [
    "earthquakes[earthquakes[\"Other Source Deaths\"].str.contains(\"26271\", na = False)]"
   ]
  },
  {
   "cell_type": "code",
   "execution_count": null,
   "metadata": {},
   "outputs": [],
   "source": [
    "earthquakes[earthquakes[\"Present-day country and link to Wikipedia article\"].str.contains(\"Iran\", na = False)]"
   ]
  },
  {
   "cell_type": "code",
   "execution_count": null,
   "metadata": {},
   "outputs": [],
   "source": [
    "earthquakes.info()"
   ]
  },
  {
   "cell_type": "code",
   "execution_count": null,
   "metadata": {},
   "outputs": [],
   "source": [
    "test = \"(\\[\\d+\\]|\\(.*\\)|\\*|\\+)\""
   ]
  },
  {
   "cell_type": "code",
   "execution_count": null,
   "metadata": {
    "scrolled": true
   },
   "outputs": [],
   "source": [
    "earthquakes[\"Other Source Deaths\"] = earthquakes[\"Other Source Deaths\"].str.replace(test, \"\")\n",
    "#footnotes = earthquakes[\"Other Source Deaths\"].str.extract(\"(?P<footnotes>\\[\\d+\\]|\\(.*\\)|\\*|\\+)\", expand = False)\n",
    "#earthquakes[\"footnotes\"] = footnotes.\n",
    "#footnotes.unique()"
   ]
  },
  {
   "cell_type": "code",
   "execution_count": null,
   "metadata": {},
   "outputs": [],
   "source": [
    "earthquakes"
   ]
  },
  {
   "cell_type": "code",
   "execution_count": null,
   "metadata": {},
   "outputs": [],
   "source": [
    "earthquakes[\"Other Source Deaths\"].value_counts()"
   ]
  },
  {
   "cell_type": "code",
   "execution_count": null,
   "metadata": {},
   "outputs": [],
   "source": [
    "#This can probably be combined with previous regex to consolidate code.\n",
    "earthquakes[\"Other Source Deaths\"] = earthquakes[\"Other Source Deaths\"].str.replace(\",\", \"\")"
   ]
  },
  {
   "cell_type": "code",
   "execution_count": null,
   "metadata": {
    "scrolled": true
   },
   "outputs": [],
   "source": [
    "earthquakes[\"Other Source Deaths\"].value_counts()"
   ]
  },
  {
   "cell_type": "code",
   "execution_count": null,
   "metadata": {},
   "outputs": [],
   "source": [
    "earthquakes[earthquakes[\"Present-day country and link to Wikipedia article\"].str.contains(\"Iran\", na = False)]"
   ]
  },
  {
   "cell_type": "code",
   "execution_count": null,
   "metadata": {},
   "outputs": [],
   "source": [
    "means = []\n",
    "for row in earthquakes[\"Other Source Deaths\"]:\n",
    "    print(\"\\noriginal: {}\".format(type(row)))\n",
    "    #if isinstance(row, float):\n",
    "    #    int_list = [str(row)]\n",
    "    if isinstance(row, str):\n",
    "        #print(len(row))\n",
    "        int_list = row.strip().split(\" \")\n",
    "        print(\"transformed: {}\".format(int_list))\n",
    "        #row.split(\" \")\n",
    "        #make_int = list(map(int, int_list))\n",
    "        #print(\"new type:\", make_int)\n",
    "        total = sum(list(map(int, int_list)))\n",
    "        number = len(int_list)\n",
    "        mean = total/number\n",
    "        means.append(mean)\n",
    "        print(mean)\n",
    "    else:\n",
    "        means.append(row)\n",
    "        \n",
    "earthquakes[\"Other Source Deaths\"] = means\n",
    "    \n",
    "    #int_list = row.str.split(\" \")\n",
    "    #print(int_list)"
   ]
  },
  {
   "cell_type": "code",
   "execution_count": null,
   "metadata": {
    "scrolled": true
   },
   "outputs": [],
   "source": [
    "means"
   ]
  },
  {
   "cell_type": "code",
   "execution_count": null,
   "metadata": {},
   "outputs": [],
   "source": [
    "earthquakes[\"Other Source Deaths\"].value_counts()"
   ]
  },
  {
   "cell_type": "code",
   "execution_count": null,
   "metadata": {},
   "outputs": [],
   "source": [
    "\"\"\"There are some bad characters in this column, so this regex just grabs the int\"\"\"\n",
    "for col in ['EM-DAT Total Deaths', 'Magnitude']:\n",
    "    earthquakes[col] = earthquakes[col].str.extract('(\\d+\\.\\d+)', expand=True)"
   ]
  },
  {
   "cell_type": "code",
   "execution_count": null,
   "metadata": {},
   "outputs": [],
   "source": [
    "def nan_to_int(df, columns, value=0, inplace=True):\n",
    "    \"\"\"Transforms the column in the dataframe to a float32 column, rather than the object type. \n",
    "    Also fills all NaN values to -1.\n",
    "    \"\"\"\n",
    "    for col in columns:        \n",
    "        df[col].fillna(value=value, inplace=inplace)\n",
    "        df[col] = pd.to_numeric(df[col], downcast='float')"
   ]
  },
  {
   "cell_type": "code",
   "execution_count": null,
   "metadata": {},
   "outputs": [],
   "source": [
    "columns_to_convert = ['PDE Total Deaths', 'PDE Shaking Deaths', 'Utsu Total Deaths', 'EM-DAT Total Deaths', 'Magnitude']\n",
    "nan_to_int(df=earthquakes, columns=columns_to_convert)"
   ]
  },
  {
   "cell_type": "code",
   "execution_count": null,
   "metadata": {},
   "outputs": [],
   "source": [
    "earthquakes.info()"
   ]
  },
  {
   "cell_type": "code",
   "execution_count": null,
   "metadata": {},
   "outputs": [],
   "source": [
    "subdf = earthquakes[[\"PDE Total Deaths\", \"Utsu Total Deaths\", \"EM-DAT Total Deaths\", \"Other Source Deaths\"]]\n",
    "subdf.head(1)"
   ]
  },
  {
   "cell_type": "code",
   "execution_count": null,
   "metadata": {},
   "outputs": [],
   "source": [
    "earthquakes[\"deaths\"] = subdf.max(axis = 1)"
   ]
  },
  {
   "cell_type": "code",
   "execution_count": null,
   "metadata": {
    "scrolled": true
   },
   "outputs": [],
   "source": [
    "earthquakes.head()"
   ]
  },
  {
   "cell_type": "code",
   "execution_count": null,
   "metadata": {},
   "outputs": [],
   "source": [
    "earthquakes.columns = [\"UTC\", \"Country\", \"Lat\", \"Long\", \"Depth_km\", \"Mag\", \"Secondary_Effects\", \"PDE_Shaking_Deaths\", \"PDE_Deaths\", \"Utsu_Deaths\", \"EM-DAT_Deahts\", \"Other_Deaths\", \"Max_Deaths\"]"
   ]
  },
  {
   "cell_type": "code",
   "execution_count": null,
   "metadata": {
    "scrolled": true
   },
   "outputs": [],
   "source": [
    "test2=\"(\\s\\(.*)\"\n",
    "earthquakes['Country']= earthquakes['Country'].str.replace(test2, \"\")\n"
   ]
  },
  {
   "cell_type": "code",
   "execution_count": null,
   "metadata": {},
   "outputs": [],
   "source": [
    "earthquakes[earthquakes[\"Country\"].str.contains(\"Alaska\", case = False)]"
   ]
  },
  {
   "cell_type": "code",
   "execution_count": null,
   "metadata": {
    "scrolled": true
   },
   "outputs": [],
   "source": [
    "earthquakes.info()"
   ]
  },
  {
   "cell_type": "code",
   "execution_count": null,
   "metadata": {},
   "outputs": [],
   "source": [
    "earthquakes[\"UTC\"] = pd.to_datetime(earthquakes[\"UTC\"])"
   ]
  },
  {
   "cell_type": "code",
   "execution_count": null,
   "metadata": {},
   "outputs": [],
   "source": [
    "earthquakes[\"UTC\"]"
   ]
  },
  {
   "cell_type": "code",
   "execution_count": null,
   "metadata": {},
   "outputs": [],
   "source": [
    "earthquakes[\"year\"] = pd.DatetimeIndex(earthquakes[\"UTC\"]).year\n",
    "#earthquakes[\"month\"] = pd.DatetimeIndex(earthquakes[\"UTC\"]).month\n",
    "#earthquakes[\"month\"] = earthquakes.month.map(\"{:02}\".format)\n",
    "#earthquakes[\"day\"] = pd.DatetimeIndex(earthquakes[\"UTC\"]).day\n",
    "#earthquakes[\"date\"] = earthquakes[\"year\"].astype(str)+earthquakes[\"month\"].astype(str)+earthquakes[\"day\"].astype(str)\n",
    "#earthquakes[\"date\"] = earthquakes.date.astype(int)"
   ]
  },
  {
   "cell_type": "code",
   "execution_count": null,
   "metadata": {
    "scrolled": false
   },
   "outputs": [],
   "source": [
    "earthquakes.head(1)"
   ]
  },
  {
   "cell_type": "code",
   "execution_count": null,
   "metadata": {},
   "outputs": [],
   "source": [
    "earthquakes.info()"
   ]
  },
  {
   "cell_type": "markdown",
   "metadata": {},
   "source": [
    "earthquakes['date'] = pd.DatetimeIndex(earthquakes.UTC).normalize()"
   ]
  },
  {
   "cell_type": "markdown",
   "metadata": {},
   "source": [
    "earthquakes[\"date\"]"
   ]
  },
  {
   "cell_type": "code",
   "execution_count": null,
   "metadata": {},
   "outputs": [],
   "source": [
    "quakes_country = earthquakes.groupby(\"Country\").agg(len)\n",
    "quakes_country"
   ]
  },
  {
   "cell_type": "code",
   "execution_count": null,
   "metadata": {},
   "outputs": [],
   "source": [
    "quakes_country = quakes_country.reset_index()\n",
    "#quakes_country\n",
    "quakes_country_25 = quakes_country.nlargest(25, columns = \"UTC\")\n",
    "#quakes_country_25\n",
    "\n",
    "f, ax = plt.subplots(figsize=(15, 10))\n",
    "#plt.ylabel('Number of Quakes')\n",
    "quake_count = sns.barplot(quakes_country_25.Country, quakes_country_25.UTC)\n",
    "quake_count.set_xticklabels(quake_count.get_xticklabels(), rotation=30, ha=\"right\")"
   ]
  },
  {
   "cell_type": "code",
   "execution_count": null,
   "metadata": {},
   "outputs": [],
   "source": [
    "country_list = quakes_country_25[\"Country\"].tolist()\n",
    "#country_list\n",
    "earthquakes_25 = earthquakes[earthquakes[\"Country\"].str.contains('|'.join(country_list))]\n",
    "earthquakes_25.info()"
   ]
  },
  {
   "cell_type": "markdown",
   "metadata": {},
   "source": [
    "earthquakes_25['UTC'] = earthquakes_25['UTC'].astype('datetime64[ns]')\n",
    "earthquakes_25.info()"
   ]
  },
  {
   "cell_type": "markdown",
   "metadata": {},
   "source": [
    "plt.hist(earthquakes[\"UTC\"])"
   ]
  },
  {
   "cell_type": "code",
   "execution_count": null,
   "metadata": {
    "scrolled": false
   },
   "outputs": [],
   "source": [
    "sns.set(font_scale = 1.5)\n",
    "sns.set_style(\"white\")\n",
    "plt.subplots(figsize=(15,10))\n",
    "sns.stripplot(x = \"year\", y = \"Country\", data = earthquakes_25, jitter=True)"
   ]
  },
  {
   "cell_type": "markdown",
   "metadata": {},
   "source": [
    "sns.stripplot(x=\"Country\", y=\"UTC\", data=earthquakes_25)"
   ]
  },
  {
   "cell_type": "code",
   "execution_count": null,
   "metadata": {},
   "outputs": [],
   "source": [
    "type(earthquakes_25[\"UTC\"])"
   ]
  },
  {
   "cell_type": "code",
   "execution_count": null,
   "metadata": {},
   "outputs": [],
   "source": [
    "plt.yscale('log', nonposy='clip')\n",
    "plt.hist(earthquakes_25[\"Max_Deaths\"], bins = 50)"
   ]
  },
  {
   "cell_type": "code",
   "execution_count": null,
   "metadata": {},
   "outputs": [],
   "source": [
    "plt.figure(figsize=(20,10))\n",
    "plt.hist(earthquakes[\"Depth_km\"], bins = 100)"
   ]
  },
  {
   "cell_type": "code",
   "execution_count": null,
   "metadata": {},
   "outputs": [],
   "source": [
    "earthquakes[\"Depth_km\"].value_counts()"
   ]
  },
  {
   "cell_type": "code",
   "execution_count": null,
   "metadata": {},
   "outputs": [],
   "source": [
    "earthquakes_cont = earthquakes[[\"Depth_km\", \"Mag\", \"Max_Deaths\", \"year\"]]"
   ]
  },
  {
   "cell_type": "code",
   "execution_count": null,
   "metadata": {
    "scrolled": true
   },
   "outputs": [],
   "source": [
    "earthquakes_cont.iloc[413]"
   ]
  },
  {
   "cell_type": "code",
   "execution_count": null,
   "metadata": {},
   "outputs": [],
   "source": [
    "earthquakes_cont = earthquakes_cont.replace(\"?\", np.nan)"
   ]
  },
  {
   "cell_type": "code",
   "execution_count": null,
   "metadata": {},
   "outputs": [],
   "source": [
    "earthquakes_cont[\"Depth_km\"] = pd.to_numeric(earthquakes_cont[\"Depth_km\"])"
   ]
  },
  {
   "cell_type": "code",
   "execution_count": null,
   "metadata": {
    "scrolled": false
   },
   "outputs": [],
   "source": [
    "earthquakes_cont.info()"
   ]
  },
  {
   "cell_type": "code",
   "execution_count": null,
   "metadata": {},
   "outputs": [],
   "source": [
    "earthquakes_cont = earthquakes_cont.fillna(0)"
   ]
  },
  {
   "cell_type": "code",
   "execution_count": null,
   "metadata": {
    "scrolled": false
   },
   "outputs": [],
   "source": [
    "sns.pairplot(earthquakes_cont, dropna = True)"
   ]
  }
 ],
 "metadata": {
  "kernelspec": {
   "display_name": "Python 3",
   "language": "python",
   "name": "python3"
  },
  "language_info": {
   "codemirror_mode": {
    "name": "ipython",
    "version": 3
   },
   "file_extension": ".py",
   "mimetype": "text/x-python",
   "name": "python",
   "nbconvert_exporter": "python",
   "pygments_lexer": "ipython3",
   "version": "3.6.3"
  }
 },
 "nbformat": 4,
 "nbformat_minor": 2
}
